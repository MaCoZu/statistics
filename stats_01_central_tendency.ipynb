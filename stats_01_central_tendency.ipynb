{
 "cells": [
  {
   "attachments": {},
   "cell_type": "markdown",
   "id": "cf7d5916-c257-4c12-bdc7-9ea1538dc733",
   "metadata": {},
   "source": [
    "# Measures of Central Tendency"
   ]
  },
  {
   "attachments": {},
   "cell_type": "markdown",
   "id": "d6957917",
   "metadata": {},
   "source": [
    "## statistic module\n",
    "https://www.w3schools.com/python/module_statistics.asp\n",
    "https://docs.python.org/3/library/statistics.html"
   ]
  },
  {
   "cell_type": "code",
   "execution_count": null,
   "id": "a1df67d1",
   "metadata": {},
   "outputs": [],
   "source": [
    "print(dir(statistics))\n",
    "help(statistics)"
   ]
  },
  {
   "attachments": {},
   "cell_type": "markdown",
   "id": "bb44a33b-874a-47e1-8c21-897960e89b1c",
   "metadata": {
    "tags": []
   },
   "source": [
    "## Averages and measures of central location"
   ]
  },
  {
   "cell_type": "code",
   "execution_count": null,
   "id": "56ca75e6",
   "metadata": {},
   "outputs": [],
   "source": [
    "import statistics as stat\n",
    "import random\n",
    "d = random.sample(range(500), 200) # sample 200 observations from a the interval [0; 500]\n",
    "\n",
    "stat.mean(d) # Arithmetic mean (“average”) of data.\n",
    "stat.fmean() # Fast, floating point arithmetic mean.\n",
    "stat.geometric_mean() # Geometric mean of data.\n",
    "stat.harmonic_mean() # Harmonic mean of data.\n",
    "stat.median(d) # Median (middle value) of data.\n",
    "stat.median_low(d) # Low median of data.\n",
    "stat.median_high(d) # High median of data.\n",
    "stat.median_grouped(d) # Median, or 50th percentile, of grouped data.\n",
    "stat.mode(d) # Single mode (most common value) of discrete or nominal data.\n",
    "stat.multimode( [2, 3, 4, 2])  # List of modes (most common values) of discrete or nominal data.\n",
    "stat.quantiles() # Divide data into intervals with equal probability."
   ]
  },
  {
   "attachments": {},
   "cell_type": "markdown",
   "id": "6874034d",
   "metadata": {},
   "source": [
    "## Measures of spread\n",
    "Measure that describe how much the population or sample tends to deviate from the typical or average values."
   ]
  },
  {
   "cell_type": "code",
   "execution_count": 1,
   "id": "4ffc9a29",
   "metadata": {},
   "outputs": [
    {
     "ename": "NameError",
     "evalue": "name 'stat' is not defined",
     "output_type": "error",
     "traceback": [
      "\u001b[0;31m---------------------------------------------------------------------------\u001b[0m",
      "\u001b[0;31mNameError\u001b[0m                                 Traceback (most recent call last)",
      "Cell \u001b[0;32mIn[1], line 1\u001b[0m\n\u001b[0;32m----> 1\u001b[0m stat\u001b[39m.\u001b[39mvariance(d)  \u001b[39m# Sample variance of data.\u001b[39;00m\n\u001b[1;32m      2\u001b[0m stat\u001b[39m.\u001b[39mstdev(d)  \u001b[39m# Sample standard deviation of data.\u001b[39;00m\n\u001b[1;32m      3\u001b[0m stat\u001b[39m.\u001b[39mpvariance(d)  \u001b[39m# Population variance of data.\u001b[39;00m\n",
      "\u001b[0;31mNameError\u001b[0m: name 'stat' is not defined"
     ]
    }
   ],
   "source": [
    "stat.variance(d)  # Sample variance of data.\n",
    "stat.stdev(d)  # Sample standard deviation of data.\n",
    "stat.pvariance(d)  # Population variance of data.\n",
    "stat.pstdev(d)  # Population standard deviation of data."
   ]
  },
  {
   "attachments": {},
   "cell_type": "markdown",
   "id": "bf475e4c-3499-4534-b554-271567287c7b",
   "metadata": {},
   "source": [
    "## basic statistics in pandas"
   ]
  },
  {
   "cell_type": "code",
   "execution_count": 2,
   "id": "0673e7d9",
   "metadata": {},
   "outputs": [],
   "source": [
    "import requests\n",
    "import pandas as pd\n",
    "\n",
    "url = 'https://www.fao.org/fileadmin/templates/worldfood/Reports_and_docs/Food_price_indices_data_jul825.csv'\n",
    "r = requests.get(url)\n",
    "open('temp.csv', 'wb').write(r.content)\n",
    "food = pd.read_csv('temp.csv',  header=2, nrows=391)\n",
    "food = food[['Date', 'Food Price Index', 'Meat', 'Dairy', 'Cereals', 'Oils', 'Sugar']][1:].dropna()\n",
    "food['Date'] = pd.to_datetime(food['Date'])\n",
    "food.set_index(\"Date\", inplace=True)"
   ]
  },
  {
   "cell_type": "code",
   "execution_count": 3,
   "id": "4c550ab0-61aa-4d80-88f1-1c28f82c0cdc",
   "metadata": {
    "tags": []
   },
   "outputs": [
    {
     "data": {
      "text/html": [
       "<div>\n",
       "<style scoped>\n",
       "    .dataframe tbody tr th:only-of-type {\n",
       "        vertical-align: middle;\n",
       "    }\n",
       "\n",
       "    .dataframe tbody tr th {\n",
       "        vertical-align: top;\n",
       "    }\n",
       "\n",
       "    .dataframe thead th {\n",
       "        text-align: right;\n",
       "    }\n",
       "</style>\n",
       "<table border=\"1\" class=\"dataframe\">\n",
       "  <thead>\n",
       "    <tr style=\"text-align: right;\">\n",
       "      <th></th>\n",
       "      <th>Food Price Index</th>\n",
       "      <th>Meat</th>\n",
       "      <th>Dairy</th>\n",
       "      <th>Cereals</th>\n",
       "      <th>Oils</th>\n",
       "      <th>Sugar</th>\n",
       "    </tr>\n",
       "  </thead>\n",
       "  <tbody>\n",
       "    <tr>\n",
       "      <th>count</th>\n",
       "      <td>390.000</td>\n",
       "      <td>390.000</td>\n",
       "      <td>390.000</td>\n",
       "      <td>390.000</td>\n",
       "      <td>390.000</td>\n",
       "      <td>390.000</td>\n",
       "    </tr>\n",
       "    <tr>\n",
       "      <th>mean</th>\n",
       "      <td>84.947</td>\n",
       "      <td>83.705</td>\n",
       "      <td>83.508</td>\n",
       "      <td>86.157</td>\n",
       "      <td>88.301</td>\n",
       "      <td>80.795</td>\n",
       "    </tr>\n",
       "    <tr>\n",
       "      <th>std</th>\n",
       "      <td>25.624</td>\n",
       "      <td>16.699</td>\n",
       "      <td>32.534</td>\n",
       "      <td>30.952</td>\n",
       "      <td>37.885</td>\n",
       "      <td>31.183</td>\n",
       "    </tr>\n",
       "    <tr>\n",
       "      <th>min</th>\n",
       "      <td>50.500</td>\n",
       "      <td>51.100</td>\n",
       "      <td>36.800</td>\n",
       "      <td>48.600</td>\n",
       "      <td>35.830</td>\n",
       "      <td>31.800</td>\n",
       "    </tr>\n",
       "    <tr>\n",
       "      <th>25%</th>\n",
       "      <td>63.725</td>\n",
       "      <td>70.625</td>\n",
       "      <td>55.050</td>\n",
       "      <td>60.025</td>\n",
       "      <td>62.262</td>\n",
       "      <td>57.950</td>\n",
       "    </tr>\n",
       "    <tr>\n",
       "      <th>50%</th>\n",
       "      <td>78.450</td>\n",
       "      <td>82.100</td>\n",
       "      <td>76.200</td>\n",
       "      <td>84.200</td>\n",
       "      <td>80.415</td>\n",
       "      <td>74.900</td>\n",
       "    </tr>\n",
       "    <tr>\n",
       "      <th>75%</th>\n",
       "      <td>99.000</td>\n",
       "      <td>97.075</td>\n",
       "      <td>109.150</td>\n",
       "      <td>101.750</td>\n",
       "      <td>105.752</td>\n",
       "      <td>99.000</td>\n",
       "    </tr>\n",
       "    <tr>\n",
       "      <th>max</th>\n",
       "      <td>159.700</td>\n",
       "      <td>124.700</td>\n",
       "      <td>156.500</td>\n",
       "      <td>173.500</td>\n",
       "      <td>251.800</td>\n",
       "      <td>183.200</td>\n",
       "    </tr>\n",
       "  </tbody>\n",
       "</table>\n",
       "</div>"
      ],
      "text/plain": [
       "       Food Price Index     Meat    Dairy  Cereals     Oils    Sugar\n",
       "count           390.000  390.000  390.000  390.000  390.000  390.000\n",
       "mean             84.947   83.705   83.508   86.157   88.301   80.795\n",
       "std              25.624   16.699   32.534   30.952   37.885   31.183\n",
       "min              50.500   51.100   36.800   48.600   35.830   31.800\n",
       "25%              63.725   70.625   55.050   60.025   62.262   57.950\n",
       "50%              78.450   82.100   76.200   84.200   80.415   74.900\n",
       "75%              99.000   97.075  109.150  101.750  105.752   99.000\n",
       "max             159.700  124.700  156.500  173.500  251.800  183.200"
      ]
     },
     "execution_count": 3,
     "metadata": {},
     "output_type": "execute_result"
    }
   ],
   "source": [
    "food.describe(include='all').round(3)"
   ]
  },
  {
   "cell_type": "code",
   "execution_count": 4,
   "id": "b2e9d34e",
   "metadata": {},
   "outputs": [],
   "source": [
    "# export table for excel\n",
    "with pd.ExcelWriter(\"fao.xlsx\", date_format=\"YYYY-MM\") as writer: \n",
    "    food.to_excel(writer)"
   ]
  },
  {
   "cell_type": "code",
   "execution_count": null,
   "id": "d5feca8d-809d-4254-9b25-b6ffee1cd925",
   "metadata": {
    "collapsed": true,
    "jupyter": {
     "outputs_hidden": true
    },
    "tags": []
   },
   "outputs": [],
   "source": [
    "food.count() \t       \n",
    "food.sum() \t            \n",
    "food.mean() \t      \n",
    "food.median() \t\n",
    "food.mode() \t\n",
    "food.std() \t\n",
    "food.min() \t\n",
    "food.max() \t\n",
    "food.abs() \t\n",
    "food.prod() \t\n",
    "food.cumsum() \t\n",
    "food.cumprod() \t"
   ]
  },
  {
   "attachments": {},
   "cell_type": "markdown",
   "id": "7860642f-e9bc-47d2-a14e-da0855ac3cff",
   "metadata": {},
   "source": [
    "# Measures in detail"
   ]
  },
  {
   "attachments": {},
   "cell_type": "markdown",
   "id": "90b1c492",
   "metadata": {},
   "source": [
    "<img src=\"https://upload.wikimedia.org/wikipedia/commons/3/33/Visualisation_mode_median_mean.svg\" width=260 height=250 />"
   ]
  },
  {
   "attachments": {},
   "cell_type": "markdown",
   "id": "65f353c0",
   "metadata": {},
   "source": [
    "### Arithmetic mean\n",
    "${\\displaystyle A={\\frac {1}{n}}\\sum _{i=1}^{n}a_{i}={\\frac {a_{1}+a_{2}+\\cdots +a_{n}}{n}}}$\n",
    "- Useful to characterize symmetric distributions without outliers \n",
    "- the arithmetic mean is greatly influenced by outliers and thus not **robust**\n",
    "- for skewed distributions the a. mean diviates from the mode and modus<br>"
   ]
  },
  {
   "cell_type": "code",
   "execution_count": null,
   "id": "79233713-8c43-4b8f-a95f-ebf2c4bc3422",
   "metadata": {},
   "outputs": [
    {
     "data": {
      "text/plain": [
       "5.75"
      ]
     },
     "metadata": {},
     "output_type": "display_data"
    }
   ],
   "source": [
    "def my_amean (num: list) -> float:\n",
    "    sum = 0\n",
    "    for numbers in num:\n",
    "        sum += numbers\n",
    "    amean = sum / len(num)\n",
    "    return amean\n",
    "\n",
    "my_amean([3,5,6,9])"
   ]
  },
  {
   "attachments": {},
   "cell_type": "markdown",
   "id": "b782b946",
   "metadata": {},
   "source": [
    "### Median\n",
    "$\\tilde x\n",
    "=\\begin{cases}\n",
    "  x_{m+1}                     & \\text { for odd n = 2m+1}\\\\\n",
    "  \\frac{1}{2} (x_m + x_{m+1}) & \\text { for even n = 2m}\n",
    "\\end{cases}\n",
    "$\n",
    "- Exact **middle value among a dataset**.\n",
    "- The median $\\tilde x$ is the **value splitting the higher half from the lower half** of a data sample.<br>\n",
    "- **Useful for skewed distribution or data with outliers.**\n",
    "- The basic feature of the median in describing data compared to the mean $\\overline x$ is that it is not skewed by a small proportion of extremely large or small values, and therefore provides a better representation of a \"typical\" value. \n",
    "- The median is  the **most resistant / robust statistic** \n"
   ]
  },
  {
   "cell_type": "code",
   "execution_count": null,
   "id": "dc06607c-fa3e-46a0-8d25-9e0757c40784",
   "metadata": {},
   "outputs": [
    {
     "data": {
      "text/plain": [
       "25"
      ]
     },
     "metadata": {},
     "output_type": "display_data"
    }
   ],
   "source": [
    "def my_median (num: list) -> float:\n",
    "    '''number that resides in the middle of a sorted list of  numbers'''\n",
    "    ls = sorted(num)\n",
    "    lg = len(num)\n",
    "    m = lg/2\n",
    "    if lg%2 == 1:\n",
    "        med = ls[int(m)]\n",
    "    else:\n",
    "        med = (ls[int(m-1)]+ls[int(m)])/2\n",
    "    return med\n",
    "\n",
    "my_median([10,17,20, 22, 25, 34, 37, 48, 59])"
   ]
  },
  {
   "attachments": {},
   "cell_type": "markdown",
   "id": "12f3e021",
   "metadata": {},
   "source": [
    "## Mode\n",
    "- The mode is the value that appears most often in a set of data values.<br>\n",
    "- The numerical value of the mode is the same as that of the mean and median in a normal distribution, and it may be very different in highly skewed distributions. <br>\n"
   ]
  },
  {
   "cell_type": "code",
   "execution_count": 74,
   "id": "6b6d0380",
   "metadata": {},
   "outputs": [
    {
     "data": {
      "text/plain": [
       "[2, 3]"
      ]
     },
     "execution_count": 74,
     "metadata": {},
     "output_type": "execute_result"
    }
   ],
   "source": [
    "import statistics as stat\n",
    "stat.mode([2, 3, 4, 2])\n",
    "stat.multimode([2, 3, 3, 4, 2]) # if there's more than one mode"
   ]
  },
  {
   "cell_type": "code",
   "execution_count": null,
   "id": "e4df5cbe-bf89-45a9-9c40-14f53ad1dbed",
   "metadata": {},
   "outputs": [
    {
     "data": {
      "text/plain": [
       "[2, 3]"
      ]
     },
     "metadata": {},
     "output_type": "display_data"
    }
   ],
   "source": [
    "def my_mode(ls):\n",
    "    ''' mode that allows for more than one mode value'''\n",
    "    # count - counts elements in an iterable\n",
    "    # map - goes ove every element in iterable\n",
    "    # filter - picks items for wich the filter criteria is true\n",
    "    most = max(list(map(ls.count, ls)))\n",
    "    return list(set(filter(lambda x: ls.count(x) == most, ls)))\n",
    "\n",
    "my_mode([2,3,5, 5, 5, 2, 3, 8])\n",
    "my_mode([1, 2, 2, 3, 3])\n"
   ]
  },
  {
   "cell_type": "code",
   "execution_count": null,
   "id": "2184a286",
   "metadata": {},
   "outputs": [
    {
     "data": {
      "text/plain": [
       "[2, 3]"
      ]
     },
     "metadata": {},
     "output_type": "display_data"
    }
   ],
   "source": [
    "def my_modus(num: list) -> float:\n",
    "    ''' mode that allows for more than one mode value'''\n",
    "    freq = {}                             # build a dict, that lists the existing vakues and their frequencies\n",
    "    for x in num:\n",
    "        h = num.count(x)          # count frequency of value x\n",
    "        freq[x] = h                     # add value x and it's frequency to the dict\n",
    "\n",
    "    value_list = list(freq.values())    # make two lists of the same lenght out of\n",
    "    key_list = list(freq.keys())          # dictionaries keys and values\n",
    "\n",
    "    maximum = 0                         # find max frequency\n",
    "    for y in value_list:\n",
    "        if  y > maximum:\n",
    "            maximum = y\n",
    "\n",
    "    position = value_list.index(maximum)    # take position of max frequency to extract corresponding key\n",
    "    return key_list[position]\n",
    "\n",
    "\n",
    "my_modus([1, 2, 3])\n",
    "my_mode([1, 2, 2, 3, 3])\n"
   ]
  },
  {
   "attachments": {},
   "cell_type": "markdown",
   "id": "e51d58e2",
   "metadata": {},
   "source": [
    "## Geometric Mean\n",
    "- Useful for averaging ratios. (growth of figures, population growth, interest rates)\n",
    "- Always less than arithmetic mean\n",
    "\n",
    "The geometric mean is one of the three classical Pythagorean means, together with the arithmetic mean and the harmonic mean. For all positive data sets containing at least one pair of unequal values, the harmonic mean is always the least of the three means, while the arithmetic mean is always the greatest of the three and the geometric mean is always in between (see Inequality of arithmetic and geometric means.) \n",
    "\n",
    "$\\left(\\prod _{i=1}^{n}x_{i}\\right)^{\\frac {1}{n}}={\\sqrt[{n}]{x_{1}x_{2}\\cdots x_{n}}}$"
   ]
  },
  {
   "cell_type": "code",
   "execution_count": 1,
   "id": "8350d73e",
   "metadata": {},
   "outputs": [
    {
     "data": {
      "text/plain": [
       "46.415888336127786"
      ]
     },
     "execution_count": 1,
     "metadata": {},
     "output_type": "execute_result"
    }
   ],
   "source": [
    "from scipy.stats import gmean\n",
    "gmean([1.0, 0.00001, 10000000000.])"
   ]
  },
  {
   "cell_type": "code",
   "execution_count": 75,
   "id": "b5665747",
   "metadata": {},
   "outputs": [
    {
     "data": {
      "text/plain": [
       "46.415888336127786"
      ]
     },
     "execution_count": 75,
     "metadata": {},
     "output_type": "execute_result"
    }
   ],
   "source": [
    "from statistics import geometric_mean\n",
    "geometric_mean([1.0, 0.00001, 10000000000.])"
   ]
  },
  {
   "cell_type": "code",
   "execution_count": null,
   "id": "f9b751b5-752f-485b-aeac-e9008be93fcc",
   "metadata": {},
   "outputs": [
    {
     "data": {
      "text/plain": [
       "2.0"
      ]
     },
     "metadata": {},
     "output_type": "display_data"
    }
   ],
   "source": [
    "def my_geomean(ls: list) -> float:\n",
    "    '''mean or average, which indicates the central tendency or \n",
    "    typical value of a set of numbers by using the product of their value'''\n",
    "    growthfactors = []\n",
    "\n",
    "    for index in range(1, len(ls)):          # range fct spits out the indexes\n",
    "        g_fact = ls[index]/ls[index-1]\n",
    "        growthfactors.append(g_fact)         # create a list\n",
    "\n",
    "    prod = 1                                 # product of list instead of product()\n",
    "    for fact in  growthfactors:\n",
    "        prod *= fact\n",
    "\n",
    "    geo_mean = prod**(1/2)\n",
    "    return geo_mean\n",
    "\n",
    "\n",
    "my_geomean([2, 3, 5, 5, 5, 2, 3, 8])\n"
   ]
  },
  {
   "attachments": {},
   "cell_type": "markdown",
   "id": "86229a6e",
   "metadata": {},
   "source": [
    "## Harmonic Mean\n",
    "The harmonic mean is one of the Pythagorean means. <br>\n",
    "It is sometimes appropriate for situations when the average rate is desired. \n",
    "\n",
    "The harmonic mean can be expressed as the reciprocal of the arithmetic mean of the reciprocals of the given set of observations. As a simple example, the harmonic mean of 1, 4, and 4 is \n",
    "\n",
    "$\\left(\\frac{1^{-1} + 4^{-1} + 4^{-1}}{3}\\right)^{-1} = \\frac{3}{\\frac{1}{1} + \\frac{1}{4} + \\frac{1}{4}} = \\frac{3}{1.5} = 2$\n",
    "\n",
    "$\\frac {n}{\\frac{1}{x_1}+\\frac{1}{x_2}+\\frac{1}{x_3}+…+\\frac{1}{x_n}}$\n",
    "\n",
    "In many situations involving rates and ratios, the harmonic mean provides the correct average.\n",
    "\n",
    "The weighted harmonic mean is the preferable method for averaging multiples, such as the price–earnings ratio. If these ratios are averaged using a weighted arithmetic mean, high data points are given greater weights than low data points. The weighted harmonic mean, on the other hand, correctly weights each data point.\n",
    "\n",
    "\n",
    "If a set of [[weight function|weights]] $w_1 ..., w_n$ is associated to the dataset $x_1, ..., x_n$, the '''weighted harmonic mean''' is defined by \n",
    "\n",
    "  $H = \\frac{\\sum\\limits_{i=1}^n w_i}{\\sum\\limits_{i=1}^n \\frac{w_i}{x_i}}\n",
    "    = \\left( \\frac{\\sum\\limits_{i=1}^n w_i x_i^{-1}}{\\sum\\limits_{i=1}^n w_i} \\right)^{-1}$\n",
    "\n",
    "The unweighted harmonic mean can be regarded as the special case where all of the weights are equal."
   ]
  },
  {
   "cell_type": "code",
   "execution_count": 4,
   "id": "3515036e-968d-4afe-abf3-4981f1d2dc53",
   "metadata": {},
   "outputs": [],
   "source": [
    "def my_harmonic_mean(ls: list) -> float:\n",
    "    sum = 0\n",
    "    for x in ls:\n",
    "        sum += 1/x\n",
    "    mean = sum / len(ls)\n",
    "    hmean = 1/mean\n",
    "    return hmean"
   ]
  },
  {
   "cell_type": "code",
   "execution_count": 5,
   "id": "a12faf78-9381-418f-9efe-623cea018daf",
   "metadata": {},
   "outputs": [
    {
     "name": "stdout",
     "output_type": "stream",
     "text": [
      "114.46005782930303\n"
     ]
    }
   ],
   "source": [
    "growth = (100, 103, 104, 134, 145)\n",
    "print(my_harmonic_mean(growth))"
   ]
  },
  {
   "cell_type": "code",
   "execution_count": 6,
   "id": "4ca8d65b",
   "metadata": {},
   "outputs": [
    {
     "data": {
      "text/plain": [
       "114.46005782930303"
      ]
     },
     "execution_count": 6,
     "metadata": {},
     "output_type": "execute_result"
    }
   ],
   "source": [
    "import statistics as stats\n",
    "\n",
    "stats.harmonic_mean([100, 103, 104, 134, 145])\n",
    "stats.harmonic_mean([40, 60], weights=[5, 30]) # with weights"
   ]
  }
 ],
 "metadata": {
  "kernelspec": {
   "display_name": "Python 3.8.12 64-bit ('lewagon')",
   "language": "python",
   "name": "python3"
  },
  "language_info": {
   "codemirror_mode": {
    "name": "ipython",
    "version": 3
   },
   "file_extension": ".py",
   "mimetype": "text/x-python",
   "name": "python",
   "nbconvert_exporter": "python",
   "pygments_lexer": "ipython3",
   "version": "3.10.11"
  },
  "vscode": {
   "interpreter": {
    "hash": "ad7afd56c4a9327988b254949fc9ff6c4de57fd051da33a62b5f87e3ddafe8d2"
   }
  },
  "widgets": {
   "application/vnd.jupyter.widget-state+json": {
    "state": {},
    "version_major": 2,
    "version_minor": 0
   }
  }
 },
 "nbformat": 4,
 "nbformat_minor": 5
}
