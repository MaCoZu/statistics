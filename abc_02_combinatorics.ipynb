{
 "cells": [
  {
   "cell_type": "markdown",
   "metadata": {},
   "source": [
    "# Combinatorics"
   ]
  },
  {
   "cell_type": "markdown",
   "metadata": {},
   "source": [
    "## Permutations\n",
    "<details>\n",
    "\n",
    "- **Order matters & all items are arranged**.\n",
    "- different arrangements of all ($n=k$) elements.\n",
    "- $n$ item can be arranged in $n!=1 \\cdot 2 \\cdot ... \\cdot n$ different ways. \n",
    "- when there is $k$ item that repeat then the possibilities of there arrangement are factored out. $$\\frac{n!}{k!}$$\n",
    "- If there is multiple groups of repeating elements $k_1, k_2, … k_s$, the formula becomes: $$\\frac{n!}{k_1!\\times k_2! \\times … \\times k_s!}$$\n",
    "\n",
    "</details>"
   ]
  },
  {
   "cell_type": "code",
   "execution_count": 1,
   "metadata": {},
   "outputs": [
    {
     "data": {
      "text/plain": [
       "[('A', 'B', 'C'),\n",
       " ('A', 'C', 'B'),\n",
       " ('B', 'A', 'C'),\n",
       " ('B', 'C', 'A'),\n",
       " ('C', 'A', 'B'),\n",
       " ('C', 'B', 'A')]"
      ]
     },
     "execution_count": 1,
     "metadata": {},
     "output_type": "execute_result"
    }
   ],
   "source": [
    "from math import factorial\n",
    "from itertools import permutations\n",
    "\n",
    "lst = ['A', 'B', 'C']\n",
    "\n",
    "# number of permutations n! (k=0: arrangement of all items)\n",
    "factorial(len(lst))\n",
    "\n",
    "# permutations \n",
    "list(permutations(lst))"
   ]
  },
  {
   "cell_type": "code",
   "execution_count": 2,
   "metadata": {},
   "outputs": [
    {
     "data": {
      "text/plain": [
       "12.0"
      ]
     },
     "execution_count": 2,
     "metadata": {},
     "output_type": "execute_result"
    }
   ],
   "source": [
    "from math import factorial\n",
    "\n",
    "lst2 = ['A', 'B', 'C', 'C'] # two item repeat itself so 2! needs to be facored out\n",
    "factorial(len(lst2))/factorial(2)"
   ]
  },
  {
   "cell_type": "markdown",
   "metadata": {},
   "source": [
    "## Variations\n",
    "- Variations are arrangements $k$ out of $n$ elements, where the order of the selected objects matters.\n",
    "- **Order matters & selection of items.**\n",
    "- **With repition**:  $$V(n,k)=n^k$$\n",
    "- **Without repition**: $$n \\times (n-1) \\times . . . \\times (n-k+1) = \\frac{n!}{(n-k)!} = \\binom{n}{k} \\cdot k!$$"
   ]
  },
  {
   "cell_type": "code",
   "execution_count": 4,
   "metadata": {},
   "outputs": [
    {
     "name": "stdout",
     "output_type": "stream",
     "text": [
      "6\n"
     ]
    },
    {
     "data": {
      "text/plain": [
       "[('A', 'B'), ('A', 'C'), ('B', 'A'), ('B', 'C'), ('C', 'A'), ('C', 'B')]"
      ]
     },
     "execution_count": 4,
     "metadata": {},
     "output_type": "execute_result"
    }
   ],
   "source": [
    "from math import factorial\n",
    "from itertools import permutations\n",
    "\n",
    "\n",
    "elements = ['A', 'B', 'C']\n",
    "# variation/ k-permutations selection of two items out of 3 elements\n",
    "print(int(factorial(3)/factorial(3-2)))\n",
    "list(permutations(elements, 2))"
   ]
  },
  {
   "cell_type": "code",
   "execution_count": 5,
   "metadata": {},
   "outputs": [
    {
     "name": "stdout",
     "output_type": "stream",
     "text": [
      "9\n"
     ]
    },
    {
     "data": {
      "text/plain": [
       "[('A', 'A'),\n",
       " ('A', 'B'),\n",
       " ('A', 'C'),\n",
       " ('B', 'A'),\n",
       " ('B', 'B'),\n",
       " ('B', 'C'),\n",
       " ('C', 'A'),\n",
       " ('C', 'B'),\n",
       " ('C', 'C')]"
      ]
     },
     "execution_count": 5,
     "metadata": {},
     "output_type": "execute_result"
    }
   ],
   "source": [
    "from itertools import product\n",
    "elements = ['A', 'B', 'C']\n",
    "\n",
    "# variations with repetition\n",
    "print(len(elements)**2)\n",
    "list(product(elements, repeat=2))"
   ]
  },
  {
   "cell_type": "code",
   "execution_count": 6,
   "metadata": {},
   "outputs": [
    {
     "data": {
      "text/plain": [
       "[('A', 'B'), ('A', 'C'), ('B', 'A'), ('B', 'C'), ('C', 'A'), ('C', 'B')]"
      ]
     },
     "execution_count": 6,
     "metadata": {},
     "output_type": "execute_result"
    }
   ],
   "source": [
    "from itertools import permutations\n",
    "\n",
    "# k=2, arrangement of 3 items in 2 places (pairs of two)\n",
    "list(permutations(lst, 2))"
   ]
  },
  {
   "cell_type": "markdown",
   "metadata": {},
   "source": [
    "## Combinations\n",
    "- Selections of $k$ item  out of $n$ items without considering the order.<br>\n",
    "→ **no replacements** and the **order doesn’t matter**\n",
    "- Combination **without repetiton**:\n",
    "$$C(n, k) = \\binom{n}{k} = \\frac{n!}{(n-k)!\\,\\,k!}$$\n",
    " also called the Binomial Coefficient \n",
    " - Combination **with repitition**:\n",
    "  $$\\binom{n + k - 1}{k} = \\frac{(n + k - 1)!}{(n - 1)! \\cdot k!}$$"
   ]
  },
  {
   "cell_type": "code",
   "execution_count": 10,
   "metadata": {},
   "outputs": [
    {
     "name": "stdout",
     "output_type": "stream",
     "text": [
      "[('apple', 'banana'), ('apple', 'pear'), ('apple', 'grapes'), ('apple', 'orange'), ('apple', 'mango'), ('apple', 'blueberry'), ('apple', 'strawberry'), ('banana', 'pear'), ('banana', 'grapes'), ('banana', 'orange'), ('banana', 'mango'), ('banana', 'blueberry'), ('banana', 'strawberry'), ('pear', 'grapes'), ('pear', 'orange'), ('pear', 'mango'), ('pear', 'blueberry'), ('pear', 'strawberry'), ('grapes', 'orange'), ('grapes', 'mango'), ('grapes', 'blueberry'), ('grapes', 'strawberry'), ('orange', 'mango'), ('orange', 'blueberry'), ('orange', 'strawberry'), ('mango', 'blueberry'), ('mango', 'strawberry'), ('blueberry', 'strawberry')]\n"
     ]
    }
   ],
   "source": [
    "from math import comb \n",
    "from itertools import combinations\n",
    "\n",
    "# taking 2 out of 8 elements\n",
    "fruits = ['apple','banana','pear','grapes','orange','mango','blueberry','strawberry']\n",
    "\n",
    "# number of combination\n",
    "comb(8, 2)\n",
    "\n",
    "# different combinations\n",
    "print(list(combinations(fruits, 2)))"
   ]
  },
  {
   "cell_type": "code",
   "execution_count": 20,
   "metadata": {},
   "outputs": [
    {
     "name": "stdout",
     "output_type": "stream",
     "text": [
      "number of combinations_with_replacement: 36\n",
      "[('apple', 'apple'), ('apple', 'banana'), ('apple', 'pear'), ('apple', 'grapes'), ('apple', 'orange'), ('apple', 'mango'), ('apple', 'blueberry'), ('apple', 'strawberry'), ('banana', 'banana'), ('banana', 'pear'), ('banana', 'grapes'), ('banana', 'orange'), ('banana', 'mango'), ('banana', 'blueberry'), ('banana', 'strawberry'), ('pear', 'pear'), ('pear', 'grapes'), ('pear', 'orange'), ('pear', 'mango'), ('pear', 'blueberry'), ('pear', 'strawberry'), ('grapes', 'grapes'), ('grapes', 'orange'), ('grapes', 'mango'), ('grapes', 'blueberry'), ('grapes', 'strawberry'), ('orange', 'orange'), ('orange', 'mango'), ('orange', 'blueberry'), ('orange', 'strawberry'), ('mango', 'mango'), ('mango', 'blueberry'), ('mango', 'strawberry'), ('blueberry', 'blueberry'), ('blueberry', 'strawberry'), ('strawberry', 'strawberry')]\n"
     ]
    }
   ],
   "source": [
    "# combination with repitition\n",
    "from itertools import combinations_with_replacement\n",
    "n = len(fruits)\n",
    "k=2\n",
    "print(f\"number of combinations_with_replacement: {comb(n + k - 1, k)}\")\n",
    "print(list(combinations_with_replacement(fruits, k)))"
   ]
  }
 ],
 "metadata": {
  "kernelspec": {
   "display_name": "Python 3",
   "language": "python",
   "name": "python3"
  },
  "language_info": {
   "codemirror_mode": {
    "name": "ipython",
    "version": 3
   },
   "file_extension": ".py",
   "mimetype": "text/x-python",
   "name": "python",
   "nbconvert_exporter": "python",
   "pygments_lexer": "ipython3",
   "version": "3.11.5"
  }
 },
 "nbformat": 4,
 "nbformat_minor": 2
}
