{
 "cells": [
  {
   "cell_type": "markdown",
   "id": "b2e46e5a-0ddd-43cb-8474-deef16e9af46",
   "metadata": {},
   "source": [
    "# Distributions\n",
    "https://towardsdatascience.com/deep-diving-statistical-distributions-with-python-for-data-scientists-a0a4badc8d1a\n",
    "\n",
    "https://simone-carolini.medium.com/statistical-distributions-with-python-f69ef4e26bab\n",
    "\n",
    "https://www.itl.nist.gov/div898/handbook/eda/section3/eda362.htm\n",
    "\n",
    "Probability distributions are a fundamental concept in statistics. <br>\n",
    "They are used both on a theoretical level and a practical level.\n",
    "\n",
    "Some __practical uses of probability distributions__ are:\n",
    "- To calculate confidence intervals for parameters and to calculate critical regions for hypothesis tests.\n",
    " - For univariate data, it is often useful to determine a reasonable distributional model for the data.\n",
    "- Statistical intervals and hypothesis tests are often based on specific distributional assumptions. <br> \n",
    "Before computing an interval or a test based on a distributional assumption, we need to verify that <br>\n",
    "the assumption is justified for the given data set. In this case, the distribution does not need to be the best-fitting <br> distribution for the data, but an adequate enough model so that the statistical technique yields valid conclusions.\n",
    "- Simulation studies with random numbers generated from using a specific probability distribution are often needed. \n",
    "\n",
    "\n",
    "__Abbriviations:__\n",
    "\n",
    "- __rv__ - random variable: variable whose value is unknown or a function that assigns values to each of an experiment's outcomes.\n",
    "- __rvs__ - random variates: a particular outcome of a random variable\n",
    "- __pmf__ - probability mass fct. : gives the probability that a discrete rv is exactly equal to some value.\n",
    "- __pdf__ - probability density fct. : describes the prob. of the value of a continuous rv falling within a range,</br> \n",
    "                    it needs to be integrated over an interval in order to yield a probability\n",
    "- __cdf__ - cumulative distribution fct.: shows prob. that a rv X is found at a value (e.g. 200 pieces) equal to or less than a certain x.\n",
    "- __ppf__  - percent point fct.: inverse of cdf -  shows point where a given prob. (e.g. 50 %) of obersvations lie left of it<br>\n",
    "- __sf__ - Survival Function (1-CDF, percentage of observations > x)<br>\n",
    "- __isf__ - Inverse Survival Function (Inverse of SF)\n",
    "\n",
    "__Density Functions__: Distribution are usually described in terms of their density functions:</br>\n",
    "\n",
    "- __PDF (Probability Density Function)__ is used to calculate the likelihood of a given observation in a **continous** distribution.\n",
    "\n",
    "- __CDF (Cumulative Density Function)__ calculates the cumulative likelihood for the observation and all prior observations in the sample space. Cumulative density function is a plot that goes from 0 to 1.\n",
    "\n",
    "- __PMF (Probability Mass Function)__ is a function that gives the probability that a discrete random variable is exactly equal to some value. It differs from a PDF because the latter is associated with continuous random variables and it needs to be integrated over an interval in order to yield a probability. We therefore refer to PMF when touching upon **discrete** distributions — in this case — Bernoulli, Binomial, and Geometric.\n",
    "-  __PPF (percent point function)__ inverse of the cumulative distribution function, for a distribution function we calculate the probability that the variable is less than or equal to x for a given x. Here we start with the probability and compute the corresponding x for the cumulative distribution.\n"
   ]
  },
  {
   "cell_type": "markdown",
   "id": "b7341c42",
   "metadata": {},
   "source": [
    "CDF & PMF       <img src=\"https://abaqus-docs.mit.edu/2017/English/SIMA3DXRefImages/pdf-defin-nls.png\">"
   ]
  },
  {
   "cell_type": "markdown",
   "id": "ca6f5eb3",
   "metadata": {},
   "source": [
    "## Uniform Distribution\n",
    "- In this sort of distribution, values within a specific range (between a and b) are equally likely to occur. \n",
    "- Values outside that given range never occur."
   ]
  },
  {
   "cell_type": "code",
   "execution_count": null,
   "id": "45059aee",
   "metadata": {},
   "outputs": [
    {
     "data": {
      "image/png": "[encoded data removed]",
      "text/plain": [
       "<Figure size 432x288 with 1 Axes>"
      ]
     },
     "metadata": {},
     "output_type": "display_data"
    }
   ],
   "source": [
    "import pandas as pd\n",
    "import scipy.stats as stats\n",
    "# loc= a, scale=b\n",
    "uniform_data = stats.uniform.rvs(size=100_000,loc=0, scale=10);\n",
    "pd.DataFrame(uniform_data).plot(kind='density');"
   ]
  },
  {
   "cell_type": "markdown",
   "id": "91b9dc5f",
   "metadata": {},
   "source": [
    "###  Cumulative distribution function (CDF)"
   ]
  },
  {
   "cell_type": "code",
   "execution_count": null,
   "id": "9d740479",
   "metadata": {},
   "outputs": [
    {
     "data": {
      "text/plain": [
       "0.25"
      ]
     },
     "metadata": {},
     "output_type": "display_data"
    }
   ],
   "source": [
    "# gives us the probability of an observation lying between loc and x of the uniform distribution.\n",
    "stats.uniform.cdf(x=75, loc=50, scale=100)"
   ]
  },
  {
   "cell_type": "markdown",
   "id": "fde44d9d",
   "metadata": {},
   "source": [
    "### Percent point function\n",
    "- The inverse of cdf.\n",
    "- Given the probability, ppf gives the cutoff on the x axis. \n",
    "- value that cuts off the probability distribution, where there is a x% chance of drawing an observation left of this cutoff value"
   ]
  },
  {
   "cell_type": "code",
   "execution_count": null,
   "id": "f32f567c",
   "metadata": {},
   "outputs": [
    {
     "data": {
      "text/plain": [
       "120.0"
      ]
     },
     "metadata": {},
     "output_type": "display_data"
    }
   ],
   "source": [
    "# here 30% of observtions lie below 80\n",
    "#  Using the parameters loc and scale, one obtains the uniform distribution on [loc, loc + scale].\n",
    "stats.uniform.ppf(\n",
    "    q=0.9,                  # probability cutoff\n",
    "    loc=30,                # distribution start\n",
    "    scale=100)          # distribution end (loc + scale)\n"
   ]
  },
  {
   "cell_type": "markdown",
   "id": "0a021344",
   "metadata": {},
   "source": [
    "### Probability density function (pdf)\n",
    "probability of a point observation in a given **continous** distribution"
   ]
  },
  {
   "cell_type": "code",
   "execution_count": null,
   "id": "e06667e9",
   "metadata": {},
   "outputs": [
    {
     "data": {
      "text/plain": [
       "0.05"
      ]
     },
     "metadata": {},
     "output_type": "display_data"
    }
   ],
   "source": [
    "import scipy.stats as stats\n",
    "stats.uniform.pdf(x=4,loc=0, scale=20)"
   ]
  },
  {
   "cell_type": "code",
   "execution_count": null,
   "id": "b75888e4",
   "metadata": {},
   "outputs": [
    {
     "data": {
      "text/plain": [
       "array([[9.3740387 , 2.13529495, 6.05711178],\n",
       "       [6.40978629, 9.83918857, 6.52327738]])"
      ]
     },
     "metadata": {},
     "output_type": "display_data"
    }
   ],
   "source": [
    "from numpy import random\n",
    "random.uniform(0, 10, (2,3))\n"
   ]
  },
  {
   "cell_type": "markdown",
   "id": "180cba8c",
   "metadata": {},
   "source": [
    "## Normal /Gausssian\n",
    "- The normal distribution always describes a __symmetric, unimodal, bell-shaped curve__. \n",
    "- The distribution depends on two parameters,  𝜇 and 𝜎, therefore we can write it as 𝑁(𝜇,𝜎). \n",
    "- When __𝜇=0 and 𝜎=1__, then in that case we talk about __Standard Normal distribution__.\n",
    "\n",
    "$f(x) = \\frac{1}{\\sigma \\sqrt{2\\pi} } e^{-\\frac{1}{2}\\left(\\frac{x-\\mu}{\\sigma}\\right)^2}$\n",
    "\n",
    "Normal distributions are important in statistics and are often used in the natural and social sciences to represent real-valued random variables whose distributions are not known. Their importance is partly due to the central limit theorem. It states that, under some conditions, the average of many samples (observations) of a random variable with finite mean and variance is itself a random variable—whose distribution converges to a normal distribution as the number of samples increases. Therefore, physical quantities that are expected to be the sum of many independent processes, such as measurement errors, often have distributions that are nearly normal."
   ]
  },
  {
   "cell_type": "code",
   "execution_count": null,
   "id": "c7d73690",
   "metadata": {},
   "outputs": [
    {
     "data": {
      "image/png": "[encoded data removed]",
      "text/plain": [
       "<Figure size 432x288 with 1 Axes>"
      ]
     },
     "metadata": {},
     "output_type": "display_data"
    }
   ],
   "source": [
    "import pandas as pd, matplotlib.pyplot as plt, seaborn as sns, numpy as np, scipy.stats as stats, math\n",
    "# 𝜇=0             𝜎**2=1                    𝜎=1\n",
    "mu = 0;         variance = 1;           sigma = math.sqrt(variance)\n",
    "x_axis = np.linspace(mu - 3 * sigma, mu + 3 * sigma, 100)\n",
    "pdf = stats.norm.pdf(x_axis, mu, sigma)\n",
    "df = pd.DataFrame({'probability': pdf, 'x': x_axis})\n",
    "sns.lineplot(data=df, x='x', y='probability');"
   ]
  },
  {
   "cell_type": "code",
   "execution_count": null,
   "id": "8a95b551",
   "metadata": {},
   "outputs": [
    {
     "data": {
      "text/plain": [
       "<matplotlib.legend.Legend at 0x7fc7366f4580>"
      ]
     },
     "metadata": {},
     "output_type": "display_data"
    },
    {
     "data": {
      "image/png": "[encoded data removed]",
      "text/plain": [
       "<Figure size 432x288 with 1 Axes>"
      ]
     },
     "metadata": {},
     "output_type": "display_data"
    }
   ],
   "source": [
    "cdf = stats.norm.cdf(x_axis, mu, sigma)\n",
    "df = pd.DataFrame({'probability_pdf': pdf, 'probability_cdf': cdf, 'x': x_axis})\n",
    "# sns.lineplot(data=df, x='x', y='probability_cdf');\n",
    "plt.plot(x_axis, df.probability_pdf, label='pdf')\n",
    "plt.plot(x_axis, df.probability_cdf, label='cdf')\n",
    "plt.legend(loc='right')"
   ]
  },
  {
   "cell_type": "code",
   "execution_count": null,
   "id": "5dbf2535",
   "metadata": {},
   "outputs": [
    {
     "data": {
      "text/plain": [
       "0.9331927987311419"
      ]
     },
     "metadata": {},
     "output_type": "display_data"
    }
   ],
   "source": [
    "from scipy.stats import norm\n",
    "# probability to see a value under 1400, when we have a normal diststro with mean is μ=1100 and variance σ = 200?\n",
    "p_value_left = norm.cdf(x=1400, loc=1100, scale=200); \n",
    "p_value_left"
   ]
  },
  {
   "cell_type": "code",
   "execution_count": null,
   "id": "a6b8fb89",
   "metadata": {},
   "outputs": [
    {
     "data": {
      "text/plain": [
       "0.06680720126885809"
      ]
     },
     "metadata": {},
     "output_type": "display_data"
    }
   ],
   "source": [
    "# probability that we see a value above 1400\n",
    "p_value_right = 1 - norm.cdf(x=1400, loc=1100, scale=200)\n",
    "p_value_right"
   ]
  },
  {
   "cell_type": "code",
   "execution_count": null,
   "id": "5a5cf78b",
   "metadata": {},
   "outputs": [
    {
     "data": {
      "text/plain": [
       "1.0"
      ]
     },
     "metadata": {},
     "output_type": "display_data"
    }
   ],
   "source": [
    "p_value_left+p_value_right"
   ]
  },
  {
   "cell_type": "code",
   "execution_count": null,
   "id": "c871fd37",
   "metadata": {},
   "outputs": [
    {
     "data": {
      "text/plain": [
       "0.9331927987311419"
      ]
     },
     "metadata": {},
     "output_type": "display_data"
    }
   ],
   "source": [
    "from scipy.stats import norm\n",
    "# using standardized z-score: Z = (x-𝜇)/𝜎 = (1400–1100) / 200 = 1.5\n",
    "norm.sf((1.5))        # sf = 1 - cdf : probability to find a value above x\n",
    "1 - norm.sf(1.5)     # 1 - sf = cdf : probability to find a value under x"
   ]
  },
  {
   "cell_type": "code",
   "execution_count": null,
   "id": "9674fb66",
   "metadata": {},
   "outputs": [
    {
     "ename": "NameError",
     "evalue": "name 'stats' is not defined",
     "output_type": "error",
     "traceback": [
      "\u001b[0;31m---------------------------------------------------------------------------\u001b[0m\n",
      "\u001b[0;31mNameError\u001b[0m                                 Traceback (most recent call last)\n",
      "\u001b[0;32m/tmp/ipykernel_12039/3975001940.py\u001b[0m in \u001b[0;36m<module>\u001b[0;34m\u001b[0m\n",
      "\u001b[1;32m      1\u001b[0m \u001b[0;31m# x% quantile, percentage point is the cutoff value that has x% of the distribution to the left of it\u001b[0m\u001b[0;34m\u001b[0m\u001b[0;34m\u001b[0m\u001b[0;34m\u001b[0m\u001b[0m\n",
      "\u001b[0;32m----> 2\u001b[0;31m \u001b[0mprint\u001b[0m\u001b[0;34m(\u001b[0m\u001b[0mstats\u001b[0m\u001b[0;34m.\u001b[0m\u001b[0mnorm\u001b[0m\u001b[0;34m.\u001b[0m\u001b[0mppf\u001b[0m\u001b[0;34m(\u001b[0m\u001b[0mq\u001b[0m\u001b[0;34m=\u001b[0m\u001b[0;36m0.75\u001b[0m\u001b[0;34m)\u001b[0m\u001b[0;34m)\u001b[0m\u001b[0;34m\u001b[0m\u001b[0;34m\u001b[0m\u001b[0m\n",
      "\u001b[0m\n",
      "\u001b[0;31mNameError\u001b[0m: name 'stats' is not defined"
     ]
    }
   ],
   "source": [
    "# x% quantile, percentage point is the cutoff value that has x% of the distribution to the left of it\n",
    "print(stats.norm.ppf(q=0.75))"
   ]
  },
  {
   "cell_type": "code",
   "execution_count": null,
   "id": "f444efa3",
   "metadata": {},
   "outputs": [
    {
     "data": {
      "text/plain": [
       "array([[-2.97158887,  0.32875287],\n",
       "       [ 2.45125776,  1.82765682],\n",
       "       [-1.56081246, -2.10099321]])"
      ]
     },
     "metadata": {},
     "output_type": "display_data"
    }
   ],
   "source": [
    "# random numbers from a normal distribution of a particular mean and standard deviation\n",
    "# mean, std, size\n",
    "np.random.normal(1, 2, (3,2))"
   ]
  },
  {
   "cell_type": "code",
   "execution_count": null,
   "id": "c2033f5d",
   "metadata": {},
   "outputs": [
    {
     "data": {
      "text/plain": [
       "array([[0.85567439, 0.82840517],\n",
       "       [0.39355712, 0.76113585],\n",
       "       [0.52102372, 0.60167845]])"
      ]
     },
     "metadata": {},
     "output_type": "display_data"
    }
   ],
   "source": [
    "# random numbers from a normal distribution between 0 and 1\n",
    "# row, col\n",
    "np.random.rand(3, 2)"
   ]
  },
  {
   "cell_type": "code",
   "execution_count": null,
   "id": "21959901",
   "metadata": {},
   "outputs": [
    {
     "data": {
      "text/plain": [
       "array([[ 0.10697596,  0.23867035],\n",
       "       [-1.66626204, -1.96403154],\n",
       "       [-2.10682777, -0.7897286 ]])"
      ]
     },
     "metadata": {},
     "output_type": "display_data"
    }
   ],
   "source": [
    "# random numbers from a standard normal distribution\n",
    "# This is a special case 'randn'  of the normal distribution when μ = 0  and σ = 1\n",
    "np.random.randn(3, 2)"
   ]
  },
  {
   "cell_type": "markdown",
   "id": "201c8785",
   "metadata": {},
   "source": [
    "## Student’s t-Distribution\n",
    "- Student distribution is used to __estimating the mean of a normally-distributed population__ in situations <br> \n",
    "where the __sample size is small and the population’s standard deviation is unknown__. \n",
    "- The t-distribution is symmetric and bell-shaped, like the Normal distribution, however it has heavier tails, </br>\n",
    "meaning it is more prone to producing values that fall far from its mean. \n",
    "- t-distribution is characterised by the degrees of freedom which equals to 𝜈=𝑛−1 (𝜈 is pronounced as nu).\n",
    "- You can see from the graph, the higher the degree of freedom, the slimmer are the tails. \n",
    "- This also means that with 𝜈 increasing the t-distribution approximates more and more to the Normal distribution. \n",
    "- More on the subject at the following link: https://mathworld.wolfram.com/Studentst-Distribution.html."
   ]
  },
  {
   "cell_type": "code",
   "execution_count": null,
   "id": "c1b33c39",
   "metadata": {},
   "outputs": [
    {
     "data": {
      "image/png": "[encoded data removed]",
      "text/plain": [
       "<Figure size 1080x576 with 1 Axes>"
      ]
     },
     "metadata": {},
     "output_type": "display_data"
    }
   ],
   "source": [
    "import pandas as pd, matplotlib.pyplot as plt, seaborn as sns, numpy as np, scipy.stats as stats, math\n",
    "\n",
    "mu = 1.5;       variance = 2;       sigma = math.sqrt(variance)\n",
    "\n",
    "x_axis = np.linspace(mu - 5 * sigma, mu + 3 * sigma, 100)\n",
    "dof = len(x_axis) - 1\n",
    "\n",
    "pdf_3 = stats.t.pdf(x_axis, 3)\n",
    "pdf_10 = stats.t.pdf(x_axis, 10)\n",
    "pdf_100 = stats.t.pdf(x_axis, 100)\n",
    "df = pd.DataFrame({'pdf_3': pdf_3, 'pdf_10': pdf_10, 'pdf_100': pdf_100, 'x_axis': x_axis})\n",
    "\n",
    "plt.figure(figsize=(15, 8));\n",
    "plt.plot(df['x_axis'], df['pdf_3'], label='3 degree of freedom');\n",
    "plt.plot(df['x_axis'], df['pdf_10'], label='10 degree of freedom');\n",
    "plt.plot(df['x_axis'], df['pdf_100'], label='100 degree of freedom');\n",
    "plt.xlabel('Observations');\n",
    "plt.ylabel('Probability');\n",
    "plt.legend();\n",
    "plt.show()\n"
   ]
  },
  {
   "cell_type": "markdown",
   "id": "5b9b5cb5",
   "metadata": {},
   "source": [
    "## Binomial Distribution\n",
    "- has only 2 possible outcomes in experiments. \n",
    "- We can use the binomial distribution to find the probability of success and failure. \n",
    "- It tells you how likely it is to get a success in a number of trials. \n",
    "- A trial could have multiple events. For example — flipping fair coin 10 times = 1 trial.\n",
    "\n",
    "$f(k,n,p) = \\Pr(k;n,p) = \\Pr(X = k) = \\binom{n}{k}p^k(1-p)^{n-k}$"
   ]
  },
  {
   "cell_type": "code",
   "execution_count": null,
   "id": "af4bab14",
   "metadata": {},
   "outputs": [],
   "source": [
    "from scipy.stats import binom\n",
    "from pandas import crosstab\n",
    "# rvs - random variates - particular outcome of a random variable: rvs of a rv usually have different outcomes \n",
    "coin=binom.rvs(size=100000,             # number of trials\n",
    "          n=10,                                              # number of flips in a trial\n",
    "          p=0.5)                                             # probability of success (e.g. getting heads)"
   ]
  },
  {
   "cell_type": "code",
   "execution_count": null,
   "id": "fa838695",
   "metadata": {},
   "outputs": [
    {
     "data": {
      "text/html": [
       "<div>\n",
       "<style scoped>\n",
       "    .dataframe tbody tr th:only-of-type {\n",
       "        vertical-align: middle;\n",
       "    }\n",
       "\n",
       "    .dataframe tbody tr th {\n",
       "        vertical-align: top;\n",
       "    }\n",
       "\n",
       "    .dataframe thead th {\n",
       "        text-align: right;\n",
       "    }\n",
       "</style>\n",
       "<table border=\"1\" class=\"dataframe\">\n",
       "  <thead>\n",
       "    <tr style=\"text-align: right;\">\n",
       "      <th>col_0</th>\n",
       "      <th>0</th>\n",
       "      <th>1</th>\n",
       "      <th>2</th>\n",
       "      <th>3</th>\n",
       "      <th>4</th>\n",
       "      <th>5</th>\n",
       "      <th>6</th>\n",
       "      <th>7</th>\n",
       "      <th>8</th>\n",
       "      <th>9</th>\n",
       "      <th>10</th>\n",
       "    </tr>\n",
       "    <tr>\n",
       "      <th>row_0</th>\n",
       "      <th></th>\n",
       "      <th></th>\n",
       "      <th></th>\n",
       "      <th></th>\n",
       "      <th></th>\n",
       "      <th></th>\n",
       "      <th></th>\n",
       "      <th></th>\n",
       "      <th></th>\n",
       "      <th></th>\n",
       "      <th></th>\n",
       "    </tr>\n",
       "  </thead>\n",
       "  <tbody>\n",
       "    <tr>\n",
       "      <th>counts</th>\n",
       "      <td>109</td>\n",
       "      <td>966</td>\n",
       "      <td>4461</td>\n",
       "      <td>11654</td>\n",
       "      <td>20326</td>\n",
       "      <td>24692</td>\n",
       "      <td>20584</td>\n",
       "      <td>11692</td>\n",
       "      <td>4405</td>\n",
       "      <td>1010</td>\n",
       "      <td>101</td>\n",
       "    </tr>\n",
       "  </tbody>\n",
       "</table>\n",
       "</div>"
      ],
      "text/plain": [
       "col_0    0    1     2      3      4      5      6      7     8     9    10\n",
       "row_0                                                                     \n",
       "counts  109  966  4461  11654  20326  24692  20584  11692  4405  1010  101"
      ]
     },
     "metadata": {},
     "output_type": "display_data"
    }
   ],
   "source": [
    "import pandas as pd\n",
    "pd.DataFrame(crosstab(index=\"counts\", columns=coin))"
   ]
  },
  {
   "cell_type": "code",
   "execution_count": null,
   "id": "92dd1185",
   "metadata": {},
   "outputs": [
    {
     "data": {
      "image/png": "[encoded data removed]",
      "text/plain": [
       "<Figure size 432x360 with 1 Axes>"
      ]
     },
     "metadata": {},
     "output_type": "display_data"
    }
   ],
   "source": [
    "import matplotlib.pyplot as plt\n",
    "import numpy as np\n",
    "fig = plt.figure(figsize=(6, 5))\n",
    "ax1 = fig.add_subplot(111)\n",
    "ax1.set_xticks(np.arange(11))\n",
    "ax1.hist(coin, align=\"left\", color=\"orange\");"
   ]
  },
  {
   "cell_type": "code",
   "execution_count": null,
   "id": "58a68f3d",
   "metadata": {},
   "outputs": [
    {
     "data": {
      "text/html": [
       "<div>\n",
       "<style scoped>\n",
       "    .dataframe tbody tr th:only-of-type {\n",
       "        vertical-align: middle;\n",
       "    }\n",
       "\n",
       "    .dataframe tbody tr th {\n",
       "        vertical-align: top;\n",
       "    }\n",
       "\n",
       "    .dataframe thead th {\n",
       "        text-align: right;\n",
       "    }\n",
       "</style>\n",
       "<table border=\"1\" class=\"dataframe\">\n",
       "  <thead>\n",
       "    <tr style=\"text-align: right;\">\n",
       "      <th>col_0</th>\n",
       "      <th>2</th>\n",
       "      <th>3</th>\n",
       "      <th>4</th>\n",
       "      <th>5</th>\n",
       "      <th>6</th>\n",
       "      <th>7</th>\n",
       "      <th>8</th>\n",
       "      <th>9</th>\n",
       "      <th>10</th>\n",
       "    </tr>\n",
       "    <tr>\n",
       "      <th>row_0</th>\n",
       "      <th></th>\n",
       "      <th></th>\n",
       "      <th></th>\n",
       "      <th></th>\n",
       "      <th></th>\n",
       "      <th></th>\n",
       "      <th></th>\n",
       "      <th></th>\n",
       "      <th></th>\n",
       "    </tr>\n",
       "  </thead>\n",
       "  <tbody>\n",
       "    <tr>\n",
       "      <th>counts</th>\n",
       "      <td>9</td>\n",
       "      <td>85</td>\n",
       "      <td>544</td>\n",
       "      <td>2699</td>\n",
       "      <td>8922</td>\n",
       "      <td>19990</td>\n",
       "      <td>30364</td>\n",
       "      <td>26585</td>\n",
       "      <td>10802</td>\n",
       "    </tr>\n",
       "  </tbody>\n",
       "</table>\n",
       "</div>"
      ],
      "text/plain": [
       "col_0   2   3    4     5     6      7      8      9      10\n",
       "row_0                                                      \n",
       "counts   9  85  544  2699  8922  19990  30364  26585  10802"
      ]
     },
     "metadata": {},
     "output_type": "display_data"
    }
   ],
   "source": [
    "# If we now flip an unfair coin with 80% chance for heads, the graph should become right skewed \n",
    "# because we would have more results of getting heads.\n",
    "coin = stats.binom.rvs(\n",
    "    size=100000,   # number of trials\n",
    "    n=10,                # number of flips in a trial\n",
    "    p=0.8)               # probability of success\n",
    "\n",
    "pd.DataFrame(pd.crosstab(index=\"counts\", columns=coin))"
   ]
  },
  {
   "cell_type": "code",
   "execution_count": null,
   "id": "96b92f0b",
   "metadata": {},
   "outputs": [
    {
     "data": {
      "image/png": "[encoded data removed]",
      "text/plain": [
       "<Figure size 432x360 with 1 Axes>"
      ]
     },
     "metadata": {},
     "output_type": "display_data"
    }
   ],
   "source": [
    "fig = plt.figure(figsize=(6, 5))\n",
    "ax1 = fig.add_subplot(111);\n",
    "ax1.set_xticks(np.arange(11));\n",
    "ax1.hist(coin, align=\"mid\", color=\"orange\");\n",
    "plt.show()"
   ]
  },
  {
   "cell_type": "code",
   "execution_count": null,
   "id": "c66b7206",
   "metadata": {},
   "outputs": [
    {
     "data": {
      "text/plain": [
       "0.03279349759999997"
      ]
     },
     "metadata": {},
     "output_type": "display_data"
    }
   ],
   "source": [
    "# Cumulative distribution function (cdf)\n",
    "stats.binom.cdf(\n",
    "    k=5,                # probability of k success or less\n",
    "    n=10,             # in n trails\n",
    "    p=0.8)           # success probability "
   ]
  },
  {
   "cell_type": "code",
   "execution_count": null,
   "id": "a4d6d32d",
   "metadata": {},
   "outputs": [
    {
     "data": {
      "text/plain": [
       "0.9672065024000001"
      ]
     },
     "metadata": {},
     "output_type": "display_data"
    }
   ],
   "source": [
    "# more than 5 succecces\n",
    "1 - stats.binom.cdf(k=5, n=10, p=0.8)  "
   ]
  },
  {
   "cell_type": "code",
   "execution_count": null,
   "id": "be4020c5-17d5-4630-9f7b-e241b20babb5",
   "metadata": {},
   "outputs": [
    {
     "data": {
      "text/plain": [
       "0.24609375000000003"
      ]
     },
     "metadata": {},
     "output_type": "display_data"
    }
   ],
   "source": [
    "# pmf gives the probability that a discrete rv is exactly equal to some value. \n",
    "# It is the proportion of observations at a given number of successes k.\n",
    "stats.binom.pmf(k=5, n=10, p=0.5)              "
   ]
  },
  {
   "cell_type": "code",
   "execution_count": null,
   "id": "61358086",
   "metadata": {},
   "outputs": [
    {
     "name": "stdout",
     "output_type": "stream",
     "text": [
      "[[69 74 72]\n",
      " [64 75 63]]\n"
     ]
    }
   ],
   "source": [
    "# we can generate random numbers from a particular binomial distribution \n",
    "# by giving the parameters n (number of trials) and p (probability of success).\n",
    "x = np.random.binomial(n=100, p=0.7, size=(2, 3))\n",
    "print(x)"
   ]
  },
  {
   "cell_type": "markdown",
   "id": "d85a03ad",
   "metadata": {},
   "source": [
    "## Geometric Distribution\n",
    "- A discrete distribution __that models the amount of time it takes for an event to occur.__ \n",
    "- For example, if success = heads, how many trials does it take to get success when flipping a fair coin?\n",
    "- Half of the time, it takes only 1 flip to get a head. That makes sense as we are flipping a fair coin. \n",
    "\n",
    "$\\Pr(X = k) = (1 - p)^{k-1}$"
   ]
  },
  {
   "cell_type": "code",
   "execution_count": null,
   "id": "e89b0b1f",
   "metadata": {},
   "outputs": [
    {
     "data": {
      "text/html": [
       "<div>\n",
       "<style scoped>\n",
       "    .dataframe tbody tr th:only-of-type {\n",
       "        vertical-align: middle;\n",
       "    }\n",
       "\n",
       "    .dataframe tbody tr th {\n",
       "        vertical-align: top;\n",
       "    }\n",
       "\n",
       "    .dataframe thead th {\n",
       "        text-align: right;\n",
       "    }\n",
       "</style>\n",
       "<table border=\"1\" class=\"dataframe\">\n",
       "  <thead>\n",
       "    <tr style=\"text-align: right;\">\n",
       "      <th>col_0</th>\n",
       "      <th>1</th>\n",
       "      <th>2</th>\n",
       "      <th>3</th>\n",
       "      <th>4</th>\n",
       "      <th>5</th>\n",
       "      <th>6</th>\n",
       "      <th>7</th>\n",
       "      <th>8</th>\n",
       "      <th>9</th>\n",
       "      <th>10</th>\n",
       "      <th>11</th>\n",
       "      <th>12</th>\n",
       "      <th>13</th>\n",
       "    </tr>\n",
       "    <tr>\n",
       "      <th>row_0</th>\n",
       "      <th></th>\n",
       "      <th></th>\n",
       "      <th></th>\n",
       "      <th></th>\n",
       "      <th></th>\n",
       "      <th></th>\n",
       "      <th></th>\n",
       "      <th></th>\n",
       "      <th></th>\n",
       "      <th></th>\n",
       "      <th></th>\n",
       "      <th></th>\n",
       "      <th></th>\n",
       "    </tr>\n",
       "  </thead>\n",
       "  <tbody>\n",
       "    <tr>\n",
       "      <th>counts</th>\n",
       "      <td>5116</td>\n",
       "      <td>2464</td>\n",
       "      <td>1238</td>\n",
       "      <td>587</td>\n",
       "      <td>300</td>\n",
       "      <td>147</td>\n",
       "      <td>75</td>\n",
       "      <td>28</td>\n",
       "      <td>15</td>\n",
       "      <td>16</td>\n",
       "      <td>7</td>\n",
       "      <td>4</td>\n",
       "      <td>3</td>\n",
       "    </tr>\n",
       "  </tbody>\n",
       "</table>\n",
       "</div>"
      ],
      "text/plain": [
       "col_0     1     2     3    4    5    6   7   8   9   10  11  12  13\n",
       "row_0                                                              \n",
       "counts  5116  2464  1238  587  300  147  75  28  15  16   7   4   3"
      ]
     },
     "metadata": {},
     "output_type": "display_data"
    }
   ],
   "source": [
    "heads2 = stats.geom.rvs(\n",
    "    size=10000,    # We generate 10_000 trails of flips\n",
    "    p=0.5)              # fair coin\n",
    "\n",
    "pd.DataFrame(pd.crosstab(index=\"counts\", columns=heads2))"
   ]
  },
  {
   "cell_type": "code",
   "execution_count": null,
   "id": "c28bedcf",
   "metadata": {},
   "outputs": [
    {
     "name": "stdout",
     "output_type": "stream",
     "text": [
      "0.875\n"
     ]
    }
   ],
   "source": [
    "# Cumulative distribution function - probability of success in first 3 flips\n",
    "three_flip = stats.geom.cdf(k=3, p=0.5)\n",
    "print(three_flip)"
   ]
  },
  {
   "cell_type": "code",
   "execution_count": null,
   "id": "b8521a93",
   "metadata": {},
   "outputs": [
    {
     "data": {
      "text/plain": [
       "0.25"
      ]
     },
     "metadata": {},
     "output_type": "display_data"
    }
   ],
   "source": [
    "# prob. successes in excatly 2 trails \n",
    "stats.geom.pmf(k=2, p=0.5)"
   ]
  },
  {
   "cell_type": "markdown",
   "id": "c190a590",
   "metadata": {},
   "source": [
    "## Exponential Distribution\n",
    "- It is the continuous analogue of the geometric distribution, and it has the key property of being memoryless.\n",
    "- It models the amount of time it takes for a certain event to occur, given an occurrence avg. rate.\n",
    "- https://mathepedia.de/Exponentialverteilung.html\n",
    "- https://www.alphacodingskills.com/scipy/scipy-exponential-distribution.php\n",
    "\n",
    "Die Exponentialverteilung ist eine typische Lebensdauerverteilung. So ist beispielsweise die Lebensdauer von elektronischen Bauelementen häufig annähernd exponentialverteilt. Hierbei spielt besonders die Gedächtnislosigkeit eine bedeutende Rolle: die Wahrscheinlichkeit, dass ein x Tage altes Bauelement noch mindestens t Tage hält, ist demnach genauso groß wie die, dass ein neues Bauelement überhaupt t Tage hält. Charakteristisch bei der Exponentialverteilung ist die konstante Ausfallrate λ.\n",
    "\n",
    "Funktionsdauer von Weckern. Es stellt sich heraus, dass durchschnittlich pro Tag 5 ‰ (Promille, Tausendstel) der Wecker unabhängig von ihrem Alter ausfallen.\n",
    "\n",
    "Die Zufallsgröße X =  „Zeitdauer der Funktionsfähigkeit eines Funkweckers in Tagen“ ist also exponentialverteilt mit der Ausfallrate λ = 0,005. Entsprechend beträgt die durchschnittliche Zeitdauer, bis ein Wecker ausfällt, 1 / λ = 200 Tage.\n",
    "\n",
    "Die Wahrscheinlichkeit, dass ein Wecker höchstens (noch) 20 Tage hält (spätestens nach 20 Tagen ausfällt) , ist\n",
    "\n",
    "$1 − e^{− 0,005 ⋅ 20} = 0,0952$\n",
    "\n",
    "d. h. nach 20 Tagen sind durchschnittlich ca. 10 % der Wecker ausgefallen.\n",
    "\n",
    "Entsprechend ist der Anteil der Wecker, die mindestens 180 Tage aushalten,\n",
    "\n",
    "$1 − ( 1 − e^{− 0,005 ⋅ 180} ) = 1 − 0,5934 = 0,4066$\n",
    "\n",
    "also halten durchschnittlich ca. 40 % der Wecker länger als 180 Tage."
   ]
  },
  {
   "cell_type": "code",
   "execution_count": null,
   "id": "5655099a",
   "metadata": {},
   "outputs": [
    {
     "data": {
      "text/plain": [
       "0.048770575499286"
      ]
     },
     "metadata": {},
     "output_type": "display_data"
    }
   ],
   "source": [
    "from scipy.stats import expon\n",
    "# scale = 1/λ\n",
    "# x = time\n",
    "expon.cdf(x=10, scale=200)"
   ]
  },
  {
   "cell_type": "code",
   "execution_count": null,
   "id": "b6c7c286",
   "metadata": {},
   "outputs": [
    {
     "data": {
      "image/png": "[encoded data removed]",
      "text/plain": [
       "<Figure size 432x288 with 1 Axes>"
      ]
     },
     "metadata": {},
     "output_type": "display_data"
    }
   ],
   "source": [
    "import numpy as np\n",
    "import matplotlib.pyplot as plt\n",
    "# with every day the probability of a part failing cumulates\n",
    "x = np.arange(0, 300, 1);\n",
    "y = expon.cdf(x=x, scale=200);\n",
    "plt.plot(x, y);\n",
    "plt.show()"
   ]
  },
  {
   "cell_type": "code",
   "execution_count": null,
   "id": "9a0e529d",
   "metadata": {},
   "outputs": [
    {
     "data": {
      "text/plain": [
       "0.4065696597405991"
      ]
     },
     "metadata": {},
     "output_type": "display_data"
    }
   ],
   "source": [
    "1 - expon.cdf(x=180, scale=200)"
   ]
  },
  {
   "cell_type": "code",
   "execution_count": null,
   "id": "b6c7c286",
   "metadata": {},
   "outputs": [
    {
     "data": {
      "image/png": "[encoded data removed]",
      "text/plain": [
       "<Figure size 432x288 with 1 Axes>"
      ]
     },
     "metadata": {},
     "output_type": "display_data"
    }
   ],
   "source": [
    "import numpy as np\n",
    "import matplotlib.pyplot as plt\n",
    "# with every day it's less probable that a part fails the first time\n",
    "x = np.arange(0, 500, 1);\n",
    "y = 1-expon.cdf(x=x, scale=200);\n",
    "plt.plot(x, y);\n",
    "plt.show()"
   ]
  },
  {
   "cell_type": "code",
   "execution_count": null,
   "id": "b6c7c286",
   "metadata": {},
   "outputs": [
    {
     "name": "stdout",
     "output_type": "stream",
     "text": [
      "          0\n",
      "0  0.005000\n",
      "1  0.004975\n",
      "2  0.004950\n",
      "3  0.004926\n",
      "4  0.004901\n",
      "5  0.004877\n",
      "6  0.004852\n",
      "7  0.004828\n",
      "8  0.004804\n",
      "9  0.004780\n"
     ]
    },
    {
     "data": {
      "image/png": "[encoded data removed]",
      "text/plain": [
       "<Figure size 432x288 with 1 Axes>"
      ]
     },
     "metadata": {},
     "output_type": "display_data"
    }
   ],
   "source": [
    "import numpy as np\n",
    "from scipy.stats import expon\n",
    "import matplotlib.pyplot as plt\n",
    "import pandas as pd\n",
    "# separate probability of failing for every day for next 300 days\n",
    "x = np.arange(0, 300, 1);\n",
    "y = expon.pdf(x=x, scale=200);\n",
    "print(pd.DataFrame(y).head(10))\n",
    "plt.plot(x, y);\n",
    "plt.show()"
   ]
  },
  {
   "cell_type": "markdown",
   "id": "c72747ee",
   "metadata": {},
   "source": [
    "## Poisson Distribution\n",
    "- models the probability of success/event occurrence within a given time interval. \n",
    "- e.g. if a waiting room has an arrival rate two persons per hour, how many arrivals happen in an hour?\n",
    "- Wsk.verteilung, mit der die Anz. von Ereignissen modelliert werden kann, die bei konstanter mittlerer Rate unabhängig voneinander in einem festen Zeitintervall oder räumlichen Gebiet eintreten.\n",
    "- Sie wird durch einen reellen Parameter λ > 0  bestimmt, der den Erwartungswert und gleichzeitig die Varianz der Verteilung beschreibt."
   ]
  },
  {
   "cell_type": "code",
   "execution_count": null,
   "id": "512fc3dc",
   "metadata": {},
   "outputs": [
    {
     "data": {
      "text/html": [
       "<div>\n",
       "<style scoped>\n",
       "    .dataframe tbody tr th:only-of-type {\n",
       "        vertical-align: middle;\n",
       "    }\n",
       "\n",
       "    .dataframe tbody tr th {\n",
       "        vertical-align: top;\n",
       "    }\n",
       "\n",
       "    .dataframe thead th {\n",
       "        text-align: right;\n",
       "    }\n",
       "</style>\n",
       "<table border=\"1\" class=\"dataframe\">\n",
       "  <thead>\n",
       "    <tr style=\"text-align: right;\">\n",
       "      <th>col_0</th>\n",
       "      <th>0</th>\n",
       "      <th>1</th>\n",
       "      <th>2</th>\n",
       "      <th>3</th>\n",
       "      <th>4</th>\n",
       "      <th>5</th>\n",
       "      <th>6</th>\n",
       "      <th>7</th>\n",
       "      <th>8</th>\n",
       "      <th>9</th>\n",
       "    </tr>\n",
       "    <tr>\n",
       "      <th>row_0</th>\n",
       "      <th></th>\n",
       "      <th></th>\n",
       "      <th></th>\n",
       "      <th></th>\n",
       "      <th></th>\n",
       "      <th></th>\n",
       "      <th></th>\n",
       "      <th></th>\n",
       "      <th></th>\n",
       "      <th></th>\n",
       "    </tr>\n",
       "  </thead>\n",
       "  <tbody>\n",
       "    <tr>\n",
       "      <th>counts</th>\n",
       "      <td>1357</td>\n",
       "      <td>2675</td>\n",
       "      <td>2680</td>\n",
       "      <td>1817</td>\n",
       "      <td>949</td>\n",
       "      <td>369</td>\n",
       "      <td>107</td>\n",
       "      <td>35</td>\n",
       "      <td>10</td>\n",
       "      <td>1</td>\n",
       "    </tr>\n",
       "  </tbody>\n",
       "</table>\n",
       "</div>"
      ],
      "text/plain": [
       "col_0      0     1     2     3    4    5    6   7   8  9\n",
       "row_0                                                   \n",
       "counts  1357  2675  2680  1817  949  369  107  35  10  1"
      ]
     },
     "metadata": {},
     "output_type": "display_data"
    }
   ],
   "source": [
    "from scipy.stats import poisson\n",
    "import pandas as pd\n",
    "arr = poisson.rvs(size=10000, mu=2)  #average arrival time 2\n",
    "pd.DataFrame(pd.crosstab(index='counts', columns=arr))\n"
   ]
  },
  {
   "cell_type": "code",
   "execution_count": null,
   "id": "8508f2ef",
   "metadata": {},
   "outputs": [
    {
     "data": {
      "image/png": "[encoded data removed]",
      "text/plain": [
       "<Figure size 432x288 with 1 Axes>"
      ]
     },
     "metadata": {},
     "output_type": "display_data"
    }
   ],
   "source": [
    "plt.hist(arr, rwidth=0.8, bins=np.arange(11) - 0.5);"
   ]
  }
 ],
 "metadata": {
  "kernelspec": {
   "display_name": "Python 3.8.12 64-bit ('lewagon')",
   "language": "python",
   "name": "python3"
  },
  "language_info": {
   "name": "python",
   "version": "3.8.12"
  },
  "orig_nbformat": 4,
  "vscode": {
   "interpreter": {
    "hash": "ad7afd56c4a9327988b254949fc9ff6c4de57fd051da33a62b5f87e3ddafe8d2"
   }
  }
 },
 "nbformat": 4,
 "nbformat_minor": 2
}
