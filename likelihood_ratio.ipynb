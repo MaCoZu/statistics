{
 "cells": [
  {
   "cell_type": "code",
   "execution_count": 8,
   "metadata": {
    "id": "KWmS98EtbrsU"
   },
   "outputs": [],
   "source": [
    "import zipfile\n",
    "import numpy as np\n",
    "import scipy.stats\n",
    "import numpy.lib.recfunctions\n",
    "import io\n",
    "import matplotlib.pyplot as plt"
   ]
  },
  {
   "cell_type": "code",
   "execution_count": 5,
   "metadata": {},
   "outputs": [],
   "source": [
    "import pandas as pd\n",
    "gamma_data = pd.read_csv('gamma-ray.csv')"
   ]
  },
  {
   "cell_type": "markdown",
   "metadata": {},
   "source": [
    "The file `gamma-ray.csv` contains a small quantity of data collected from the Compton Gamma Ray Observatory, a satellite launched by NASA in 1991 (http://cossc.gsfc.nasa.gov/). For each of 100 sequential time intervals of variable lengths (given in seconds), the number of gamma rays originating in a particular area of the sky was recorded. You would like to check the assumption that the emission rate is constant.\n",
    "\n",
    "What is a good model for such data? → **Poisson.** The number of gamma rays is discrete and non-negative. It would also be fair to assume that gamma rays emerge independently of one another, and at a constant rate in each time interval. As such a good model to use would be the Poisson distribution.\n",
    "\n",
    "More specifically, let $G_i$ denote the number of gamma rays in time interval $i$, $\\lambda_i$ denote the average rate of gamma rays in time interval $i$, and $t_i$ denote the length in seconds of this time interval. Data model is $G_ i \\sim Poisson (\\lambda_i t_i)$\n",
    "\n",
    "We wish to check the assumption that the emission rate is constant. This corresponds to all event rates,  $\\lambda_i$, being equal.\n",
    "\n",
    "$H_0$: → $\\lambda _0 = \\lambda _1 = \\cdots = \\lambda _{99}$ \n",
    "\n",
    "In contrast, the alternative hypothesis must be that at least one emission rate, $\\lambda_i$ is not equal to at least one other emission rate $\\lambda_j$, for some $i$ and $j$.\n",
    "\n",
    "$H_A$: → $\\lambda _ i \\neq \\lambda _ j$"
   ]
  },
  {
   "cell_type": "markdown",
   "metadata": {
    "id": "n3FEzb0JksFf"
   },
   "source": [
    "Part (d)"
   ]
  },
  {
   "cell_type": "code",
   "execution_count": 6,
   "metadata": {
    "colab": {
     "base_uri": "https://localhost:8080/"
    },
    "id": "ijbvEczvcCM9",
    "outputId": "2d098dac-73e2-4e67-c4d6-be6bc42e1af6"
   },
   "outputs": [
    {
     "name": "stdout",
     "output_type": "stream",
     "text": [
      "H0 = 0.0038808514969907496\n",
      "H1 = 0     0.000000\n",
      "1     0.000000\n",
      "2     0.000000\n",
      "3     0.000000\n",
      "4     0.009804\n",
      "        ...   \n",
      "95    0.025840\n",
      "96    0.000000\n",
      "97    0.000000\n",
      "98    0.000000\n",
      "99    0.000000\n",
      "Length: 100, dtype: float64\n"
     ]
    }
   ],
   "source": [
    "# For H0, the MLE estimator is a single average rate over the whole dataset\n",
    "lambda_hat_H0 = gamma_data['count'].sum()/gamma_data['seconds'].sum()\n",
    "# For H1, each bin has its own parameter, lambda_i, and so the MLE estimator is an array of rates for each bin\n",
    "lambdas_hat_H1 = gamma_data['count']/gamma_data['seconds']\n",
    "print(\"H0 = {}\".format(lambda_hat_H0))\n",
    "print(\"H1 = {}\".format(lambdas_hat_H1))"
   ]
  },
  {
   "cell_type": "markdown",
   "metadata": {
    "id": "nzFCLcB7k60L"
   },
   "source": [
    "Part (f-2)\n",
    "\n",
    "Wilk's Theorem states that when the sample size is large, the distribution of $\\Lambda$ under $H_0$ approaches a $\\chi ^2$ distribution"
   ]
  },
  {
   "cell_type": "code",
   "execution_count": 20,
   "metadata": {
    "colab": {
     "base_uri": "https://localhost:8080/",
     "height": 269
    },
    "id": "dYFkaH_ZdFU9",
    "outputId": "2fb630a7-52db-429b-a945-596662cfb450"
   },
   "outputs": [
    {
     "data": {
      "image/png": "[encoded data removed]",
      "text/plain": [
       "<Figure size 432x288 with 1 Axes>"
      ]
     },
     "metadata": {
      "needs_background": "light"
     },
     "output_type": "display_data"
    }
   ],
   "source": [
    "# Here we plot the chi^2 distribution for 99 degrees of freedom in the range of insterest (around the mean)\n",
    "plot_Xs = np.arange(50,150,0.1)\n",
    "plt.plot(plot_Xs, scipy.stats.chi2.pdf(plot_Xs, 99))\n",
    "plt.show()"
   ]
  },
  {
   "cell_type": "markdown",
   "metadata": {
    "id": "lQ8v-u73k9bf"
   },
   "source": [
    "Part (f-3)\n",
    "\n",
    "- SurvivalFunction $sf[dist,x]$ gives the probability that an observed value is greater than x.\n",
    "- The inverse survival function at q is equivalent to the $(1-q)^{th}$ quantile of a distribution.\n",
    "- For a continuous distribution dist, the inverse $sf$ at q is the value x such that $sf[dist,x]==q$.\n",
    "- For a discrete distribution dist, the inverse $sf$ at q is the smallest integer x such that $sf[dist,x]≤q$."
   ]
  },
  {
   "cell_type": "code",
   "execution_count": 7,
   "metadata": {
    "colab": {
     "base_uri": "https://localhost:8080/"
    },
    "id": "9t9WVHImd9xt",
    "outputId": "0e214c81-bc5d-4e91-c0ce-667920253444"
   },
   "outputs": [
    {
     "data": {
      "text/plain": [
       "123.22522145336181"
      ]
     },
     "execution_count": 7,
     "metadata": {
      "tags": []
     },
     "output_type": "execute_result"
    }
   ],
   "source": [
    "# The p-value for Lambda can be calculated using the survival function for the chi^2 distribution.\n",
    "# Thus, we can calculate the Lambda that would give a p-value of 0.05 by using the inverse survival function\n",
    "scipy.stats.chi2.isf(0.05, 99)"
   ]
  },
  {
   "cell_type": "markdown",
   "metadata": {
    "id": "065uYj8Zk_sA"
   },
   "source": [
    "Part (f-4)"
   ]
  },
  {
   "cell_type": "markdown",
   "metadata": {},
   "source": [
    "**Likelihood ratio test**\n",
    "\n",
    "$L(x)\\, =\\,\\frac{\\max _{\\theta \\in {\\color{orange}{\\Theta _0}} }p(x;\\theta )}{\\max _{\\theta \\in {\\color{orange}{\\Theta }} }p(x;\\theta )} = \\displaystyle  \\frac{ p\\left(x;\\hat{\\theta }_{\\text {MLE}}^{\\text {constrained}}\\right)}{p\\left(x;\\hat{\\theta }_{\\text {MLE}}\\right)}$\n",
    "\n",
    "where $\\hat{\\theta }_{\\text {MLE}}$ is the maximum likelihood estimator of $\\theta$ and $\\hat{\\theta }_{\\text {MLE}}^{\\text {constrained}}$ is the constrained maximum likelihood estimator of $\\theta$ within $\\Theta _0$ ."
   ]
  },
  {
   "cell_type": "markdown",
   "metadata": {},
   "source": [
    " $\\max _{\\theta \\in {\\color{orange}{\\Theta _0}}}p(x;\\theta ) = f(G_0,G_1,\\cdots ,G_{99}|\\lambda ) = \\prod _{i = 0}^{99}\\frac{e^{-\\lambda t_ i}(\\lambda t_ i)^{G_ i}}{G_ i!}$"
   ]
  },
  {
   "cell_type": "code",
   "execution_count": 9,
   "metadata": {
    "colab": {
     "base_uri": "https://localhost:8080/"
    },
    "id": "YSMlrxhwj_2c",
    "outputId": "d48609a1-5ab6-4062-c0f4-8303fe81ff61"
   },
   "outputs": [
    {
     "data": {
      "text/plain": [
       "5.2538693875205955e-40"
      ]
     },
     "execution_count": 9,
     "metadata": {},
     "output_type": "execute_result"
    }
   ],
   "source": [
    "def likelihood_H0(lamb):\n",
    "    # The likelihood function is a product of Poisson distributions. For H0, each Poisson distribution has the same mean lamda_H_0.\n",
    "    # pmf(x, t*lambda_H_0)\n",
    "    return scipy.stats.poisson.pmf(gamma_data['count'], gamma_data['seconds']*lamb).prod(axis=0)\n",
    "\n",
    "\n",
    "likelihood_H0(lambda_hat_H0)"
   ]
  },
  {
   "cell_type": "markdown",
   "metadata": {},
   "source": [
    "${\\max _{\\theta \\in {\\color{orange}{\\Theta }}}}p(x;\\theta )= f(G_0,G_1,\\cdots ,G_{99}|\\lambda _0, \\lambda _1, \\cdots , \\lambda _{99}) = \\prod _{i = 0}^{99}\\frac{e^{-\\lambda _ i t_ i}(\\lambda _ i t_ i)^{G_ i}}{G_ i!}$"
   ]
  },
  {
   "cell_type": "code",
   "execution_count": 11,
   "metadata": {},
   "outputs": [
    {
     "data": {
      "text/plain": [
       "2.4558387622276336e-17"
      ]
     },
     "execution_count": 11,
     "metadata": {},
     "output_type": "execute_result"
    }
   ],
   "source": [
    "def likelihood_H1(lambs):\n",
    "    # For H1, the means for the Poisson distributions are given by the parameter 'lambs'\n",
    "    return scipy.stats.poisson.pmf(gamma_data['count'], gamma_data['seconds']*lambs).prod(axis=0)\n",
    "\n",
    "\n",
    "likelihood_H1(lambdas_hat_H1)"
   ]
  },
  {
   "cell_type": "markdown",
   "metadata": {},
   "source": [
    "$\\displaystyle  \\displaystyle \\Lambda (x) = \\displaystyle  -2\\log (L(x)) \\qquad \\text {where } L(x)\\, =\\, \\frac{\\max _{\\theta \\in {\\color{orange}{\\Theta _0}} }p(x;\\theta )}{\\max _{\\theta \\in {\\color{orange}{\\Theta }} }p(x;\\theta )} = \\displaystyle  \\frac{ p\\left(x;\\hat{\\theta }_{\\text {MLE}}^{\\text {constrained}}\\right)}{p\\left(x;\\hat{\\theta }_{\\text {MLE}}\\right)}$"
   ]
  },
  {
   "cell_type": "code",
   "execution_count": 13,
   "metadata": {},
   "outputs": [
    {
     "data": {
      "text/plain": [
       "104.39792133021314"
      ]
     },
     "execution_count": 13,
     "metadata": {},
     "output_type": "execute_result"
    }
   ],
   "source": [
    "# The test statistic for the MLE is given by calculating the likelihood ratio for the MLE estimators calculated earlier.\n",
    "Lambda_observed = -2*np.log(likelihood_H0(lambda_hat_H0)/likelihood_H1(lambdas_hat_H1))\n",
    "Lambda_observed"
   ]
  },
  {
   "cell_type": "code",
   "execution_count": 17,
   "metadata": {},
   "outputs": [
    {
     "name": "stdout",
     "output_type": "stream",
     "text": [
      "Lambda: 104.39792133021314, \n",
      "p-value: 0.33576662402509894\n"
     ]
    }
   ],
   "source": [
    "# Now we can use the survival function to find the p-value for the observed data with the MLE estimators.\n",
    "pvalue = scipy.stats.chi2.sf(Lambda_observed, 99)\n",
    "print(f'Lambda: {Lambda_observed}, \\np-value: {pvalue}')"
   ]
  }
 ],
 "metadata": {
  "colab": {
   "collapsed_sections": [],
   "name": "HW1_Problem2.ipynb",
   "provenance": []
  },
  "kernelspec": {
   "display_name": "Python 3.8.12 64-bit ('lewagon')",
   "language": "python",
   "name": "python3"
  },
  "language_info": {
   "codemirror_mode": {
    "name": "ipython",
    "version": 3
   },
   "file_extension": ".py",
   "mimetype": "text/x-python",
   "name": "python",
   "nbconvert_exporter": "python",
   "pygments_lexer": "ipython3",
   "version": "3.8.12"
  },
  "vscode": {
   "interpreter": {
    "hash": "ad7afd56c4a9327988b254949fc9ff6c4de57fd051da33a62b5f87e3ddafe8d2"
   }
  }
 },
 "nbformat": 4,
 "nbformat_minor": 1
}
