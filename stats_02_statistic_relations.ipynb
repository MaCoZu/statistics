{
 "cells": [
  {
   "attachments": {},
   "cell_type": "markdown",
   "id": "732d15e6-a103-4df9-8379-420150d3381b",
   "metadata": {},
   "source": [
    "# Statistics for relations"
   ]
  },
  {
   "cell_type": "code",
   "execution_count": null,
   "metadata": {},
   "outputs": [],
   "source": [
    "import statistics as stats\n",
    "stats.covariance() # Sample covariance for two variables.\n",
    "stats.correlation()  # Pearson’s correlation coefficient for two variables.\n",
    "stats.linear_regression()  # Slope and intercept for simple linear regression."
   ]
  },
  {
   "attachments": {},
   "cell_type": "markdown",
   "id": "2a20e10a-2a68-4fed-82e3-0a4845e0c590",
   "metadata": {},
   "source": [
    "## Lorenz curve (LC)\n",
    "\n",
    "- A LC is a graphical representation of the distribution of income or wealth within a population.\n",
    "- It graphs the percentiles of the population against cumulative income or wealth of people at or below that percentile. \n",
    "- It is often accompanied by a straight diagonal line with a slope of 1, which represents perfect equality in income or wealth distribution; the LC lies beneath it, showing the observed or estimated distribution. \n",
    "- The area between the straight line and the curved line, expressed as a ratio of the area under the straight line, is the **Gini coefficient**, a scalar measurement of inequality.\n",
    "\n",
    " The graph plots percentiles of the population on the horizontal axis according to income or wealth and plots cumulative income or wealth on the vertical axis, so that an x-value of 45 and a y-value of 14.2 would mean that the bottom 45% of the population controls 14.2% of the total income or wealth."
   ]
  },
  {
   "cell_type": "code",
   "execution_count": 2,
   "id": "343330ec-1903-4ec0-93d7-2fa3c0810d67",
   "metadata": {
    "collapsed": true,
    "jupyter": {
     "outputs_hidden": true
    },
    "tags": []
   },
   "outputs": [
    {
     "data": {
      "text/plain": [
       "array([ 15,  15,   9,  17,  10,  11,  16,  12,  13,   6,   9,  15,  13,\n",
       "         7,  11,  14,  13,   7,   8,  11,  11,   7,  10,   9,  10,   9,\n",
       "        12,  12,   5,   6,   5,  10,   6,  10,   7,  11,   6,  10,  10,\n",
       "        12, 106,  95, 110, 107, 106, 104, 107,  93,  97,  98])"
      ]
     },
     "execution_count": 2,
     "metadata": {},
     "output_type": "execute_result"
    }
   ],
   "source": [
    "import numpy as np\n",
    "from matplotlib import pyplot as plt\n",
    "%matplotlib inline\n",
    "# To make a skewed dataset, I append two Poisson random samples together.\n",
    "X = np.append(np.random.poisson(lam=10, size=40), np.random.poisson(lam=100, size=10))\n",
    "X"
   ]
  },
  {
   "cell_type": "code",
   "execution_count": 3,
   "id": "ccacc03d-40b9-4c8d-bd33-ba6286c9631e",
   "metadata": {
    "collapsed": true,
    "jupyter": {
     "outputs_hidden": true
    },
    "tags": []
   },
   "outputs": [
    {
     "data": {
      "image/png": "[encoded data removed]",
      "text/plain": [
       "<Figure size 432x432 with 1 Axes>"
      ]
     },
     "metadata": {
      "needs_background": "light"
     },
     "output_type": "display_data"
    }
   ],
   "source": [
    "def lorenz_curve(X):\n",
    "    X_lorenz = X.cumsum() / X.sum()\n",
    "    X_lorenz = np.insert(X_lorenz, 0, 0) \n",
    "    fig, ax = plt.subplots(figsize=[6,6])\n",
    "    ## scatter plot of Lorenz curve\n",
    "    ax.scatter(np.arange(X_lorenz.size)/(X_lorenz.size-1), X_lorenz, \n",
    "               marker='.', color='r', s=100);\n",
    "    ## line plot of equality\n",
    "    ax.plot([0,1], [0,1], color='k')\n",
    "\n",
    "lorenz_curve(X)"
   ]
  },
  {
   "attachments": {},
   "cell_type": "markdown",
   "id": "74ed7aa6-e004-44be-9e11-09d15690257b",
   "metadata": {},
   "source": [
    "## Gini-Coefficient\n",
    "\n",
    "${\\displaystyle G={\\frac {2\\sum _{i=1}^{n}iy_{i}}{n\\sum _{i=1}^{n}y_{i}}}-{\\frac {n+1}{n}}}$\n",
    "\n",
    "- The Gini coefficient measures the inequality among values of a frequency distribution, like the levels of income. \n",
    "- G = 0 $\\rightarrow$ perfect equality\n",
    "- G = 1  $\\rightarrow$ maximal inequality "
   ]
  },
  {
   "cell_type": "code",
   "execution_count": 4,
   "id": "40045375-92bd-4630-825c-64aded8853e1",
   "metadata": {},
   "outputs": [
    {
     "data": {
      "text/plain": [
       "0.5572505233775298"
      ]
     },
     "execution_count": 4,
     "metadata": {},
     "output_type": "execute_result"
    }
   ],
   "source": [
    "def gini(arr):\n",
    "    ## first sort\n",
    "    sorted_arr = arr.copy()\n",
    "    sorted_arr.sort()\n",
    "    n = arr.size\n",
    "    coef_ = 2. / n\n",
    "    const_ = (n + 1.) / n\n",
    "    weighted_sum = sum([(i+1)*yi for i, yi in enumerate(sorted_arr)])\n",
    "    return coef_*weighted_sum/(sorted_arr.sum()) - const_\n",
    "\n",
    "gini(X)"
   ]
  },
  {
   "attachments": {},
   "cell_type": "markdown",
   "id": "a9aeea41-d4b6-44a6-bbc4-22e13cd2eb2b",
   "metadata": {},
   "source": [
    "## Contingency table / Cross tabulations\n",
    "- describes the relationships between two or more categorical variables\n",
    "- provides a basic picture of the interrelation between two variables and can help find interactions between them\n",
    "- A crucial problem of multivariate statistics is finding the (direct-)dependencies underlying the variables \n",
    "- Contingency tables can help reveal conditional independencies wich is the foundation of many statistical models\n",
    "<br>\n",
    "\n",
    "### Conditionl Independence<br>\n",
    "Knowing C makes A and B independent.\n",
    "\n",
    "If $A$ and $B$ are independent than:\n",
    "$P(A ∩ B) = P(A)  P(B)$\n",
    "\n",
    "Let $A, B$, and $C$ be events. <br> \n",
    "Let's say $A$ is the heigth of a child and $B$ is its vocabulary, <br>\n",
    "we'd assume $A$ and $B$ are **dependent** but knowing their age $C$ makes the  knowledge of height irrelevant<br> \n",
    "$A$ and $B$ thus become conditionally **independent**<br><br>\n",
    "$A$ and $B$ are said to be *conditionally independent* given $C$ if and only if $P ( C ) > 0$ and:<br>\n",
    "$P(A,B|C) = P(A|C) * P(B|C)$ <br>\n",
    "\n",
    "This property is often written: ${\\displaystyle (A\\perp \\!\\!\\!\\perp B\\mid C)} $"
   ]
  },
  {
   "attachments": {},
   "cell_type": "markdown",
   "id": "83ad0354-d5fe-4e7b-8dcf-43ace556fba5",
   "metadata": {},
   "source": [
    "### using crosstab</br>\n",
    "pandas.crosstab(index, columns, values=None, rownames=None, colnames=None, aggfunc=None, margins=False, margins_name: str = 'All', dropna: bool = True, normalize=False)"
   ]
  },
  {
   "cell_type": "code",
   "execution_count": 10,
   "id": "031c2184-d6a4-4757-90b8-2e3c21a91739",
   "metadata": {},
   "outputs": [],
   "source": [
    "import pandas as pd"
   ]
  },
  {
   "cell_type": "code",
   "execution_count": 11,
   "id": "a5009cee-9b5e-4120-92ae-2635df45f938",
   "metadata": {
    "tags": []
   },
   "outputs": [
    {
     "data": {
      "text/html": [
       "<div>\n",
       "<style scoped>\n",
       "    .dataframe tbody tr th:only-of-type {\n",
       "        vertical-align: middle;\n",
       "    }\n",
       "\n",
       "    .dataframe tbody tr th {\n",
       "        vertical-align: top;\n",
       "    }\n",
       "\n",
       "    .dataframe thead th {\n",
       "        text-align: right;\n",
       "    }\n",
       "</style>\n",
       "<table border=\"1\" class=\"dataframe\">\n",
       "  <thead>\n",
       "    <tr style=\"text-align: right;\">\n",
       "      <th></th>\n",
       "      <th>trained</th>\n",
       "      <th>jobless</th>\n",
       "      <th>number</th>\n",
       "    </tr>\n",
       "  </thead>\n",
       "  <tbody>\n",
       "    <tr>\n",
       "      <th>0</th>\n",
       "      <td>no</td>\n",
       "      <td>short</td>\n",
       "      <td>86</td>\n",
       "    </tr>\n",
       "    <tr>\n",
       "      <th>1</th>\n",
       "      <td>no</td>\n",
       "      <td>middel</td>\n",
       "      <td>19</td>\n",
       "    </tr>\n",
       "    <tr>\n",
       "      <th>2</th>\n",
       "      <td>no</td>\n",
       "      <td>long</td>\n",
       "      <td>18</td>\n",
       "    </tr>\n",
       "    <tr>\n",
       "      <th>3</th>\n",
       "      <td>apprentice</td>\n",
       "      <td>short</td>\n",
       "      <td>170</td>\n",
       "    </tr>\n",
       "    <tr>\n",
       "      <th>4</th>\n",
       "      <td>apprentice</td>\n",
       "      <td>middel</td>\n",
       "      <td>43</td>\n",
       "    </tr>\n",
       "    <tr>\n",
       "      <th>5</th>\n",
       "      <td>apprentice</td>\n",
       "      <td>long</td>\n",
       "      <td>20</td>\n",
       "    </tr>\n",
       "    <tr>\n",
       "      <th>6</th>\n",
       "      <td>specialized</td>\n",
       "      <td>short</td>\n",
       "      <td>40</td>\n",
       "    </tr>\n",
       "    <tr>\n",
       "      <th>7</th>\n",
       "      <td>specialized</td>\n",
       "      <td>middel</td>\n",
       "      <td>11</td>\n",
       "    </tr>\n",
       "    <tr>\n",
       "      <th>8</th>\n",
       "      <td>specialized</td>\n",
       "      <td>long</td>\n",
       "      <td>5</td>\n",
       "    </tr>\n",
       "    <tr>\n",
       "      <th>9</th>\n",
       "      <td>academia</td>\n",
       "      <td>short</td>\n",
       "      <td>28</td>\n",
       "    </tr>\n",
       "    <tr>\n",
       "      <th>10</th>\n",
       "      <td>academia</td>\n",
       "      <td>middel</td>\n",
       "      <td>4</td>\n",
       "    </tr>\n",
       "    <tr>\n",
       "      <th>11</th>\n",
       "      <td>academia</td>\n",
       "      <td>long</td>\n",
       "      <td>3</td>\n",
       "    </tr>\n",
       "  </tbody>\n",
       "</table>\n",
       "</div>"
      ],
      "text/plain": [
       "        trained jobless  number\n",
       "0            no   short      86\n",
       "1            no  middel      19\n",
       "2            no    long      18\n",
       "3    apprentice   short     170\n",
       "4    apprentice  middel      43\n",
       "5    apprentice    long      20\n",
       "6   specialized   short      40\n",
       "7   specialized  middel      11\n",
       "8   specialized    long       5\n",
       "9      academia   short      28\n",
       "10     academia  middel       4\n",
       "11     academia    long       3"
      ]
     },
     "execution_count": 11,
     "metadata": {},
     "output_type": "execute_result"
    }
   ],
   "source": [
    "dd = pd.DataFrame([[\"no\", \"short\", 86], [\"no\", \"middel\", 19], [\"no\", \"long\", 18],\n",
    "                                 [\"apprentice\", \"short\", 170], [\"apprentice\", \"middel\", 43], [\"apprentice\", \"long\", 20],\n",
    "                                 [\"specialized\", \"short\", 40], [\"specialized\", \"middel\", 11], [\"specialized\", \"long\",5], \n",
    "                                 [\"academia\", \"short\", 28], [\"academia\", \"middel\", 4], [\"academia\", \"long\", 3]],            \n",
    "                 columns=[\"trained\", \"jobless\", \"number\"])\n",
    "dd"
   ]
  },
  {
   "cell_type": "code",
   "execution_count": 12,
   "id": "19bb824b-2677-4eaf-b234-d3e649d64989",
   "metadata": {},
   "outputs": [
    {
     "data": {
      "text/html": [
       "<div>\n",
       "<style scoped>\n",
       "    .dataframe tbody tr th:only-of-type {\n",
       "        vertical-align: middle;\n",
       "    }\n",
       "\n",
       "    .dataframe tbody tr th {\n",
       "        vertical-align: top;\n",
       "    }\n",
       "\n",
       "    .dataframe thead th {\n",
       "        text-align: right;\n",
       "    }\n",
       "</style>\n",
       "<table border=\"1\" class=\"dataframe\">\n",
       "  <thead>\n",
       "    <tr style=\"text-align: right;\">\n",
       "      <th>jobless</th>\n",
       "      <th>long</th>\n",
       "      <th>middel</th>\n",
       "      <th>short</th>\n",
       "      <th>All</th>\n",
       "    </tr>\n",
       "    <tr>\n",
       "      <th>trained</th>\n",
       "      <th></th>\n",
       "      <th></th>\n",
       "      <th></th>\n",
       "      <th></th>\n",
       "    </tr>\n",
       "  </thead>\n",
       "  <tbody>\n",
       "    <tr>\n",
       "      <th>academia</th>\n",
       "      <td>0.065217</td>\n",
       "      <td>0.051948</td>\n",
       "      <td>0.086420</td>\n",
       "      <td>0.078300</td>\n",
       "    </tr>\n",
       "    <tr>\n",
       "      <th>apprentice</th>\n",
       "      <td>0.434783</td>\n",
       "      <td>0.558442</td>\n",
       "      <td>0.524691</td>\n",
       "      <td>0.521253</td>\n",
       "    </tr>\n",
       "    <tr>\n",
       "      <th>no</th>\n",
       "      <td>0.391304</td>\n",
       "      <td>0.246753</td>\n",
       "      <td>0.265432</td>\n",
       "      <td>0.275168</td>\n",
       "    </tr>\n",
       "    <tr>\n",
       "      <th>specialized</th>\n",
       "      <td>0.108696</td>\n",
       "      <td>0.142857</td>\n",
       "      <td>0.123457</td>\n",
       "      <td>0.125280</td>\n",
       "    </tr>\n",
       "  </tbody>\n",
       "</table>\n",
       "</div>"
      ],
      "text/plain": [
       "jobless          long    middel     short       All\n",
       "trained                                            \n",
       "academia     0.065217  0.051948  0.086420  0.078300\n",
       "apprentice   0.434783  0.558442  0.524691  0.521253\n",
       "no           0.391304  0.246753  0.265432  0.275168\n",
       "specialized  0.108696  0.142857  0.123457  0.125280"
      ]
     },
     "execution_count": 12,
     "metadata": {},
     "output_type": "execute_result"
    }
   ],
   "source": [
    "# unfourtunately pd.crosstab crosstab by default arrange the index and \n",
    "# columns in an ascending order & this order can’t be changed.\n",
    "ct = pd.crosstab(index=dd.trained, columns=dd.jobless, values=dd.number, \n",
    "                           aggfunc=\"sum\", margins=True, normalize=\"columns\")         #   ‘columns’ -> sum by level of training\n",
    "ct  "
   ]
  },
  {
   "attachments": {},
   "cell_type": "markdown",
   "id": "5600d6a9-1085-4320-93de-e47452f38080",
   "metadata": {
    "tags": []
   },
   "source": [
    "### heatmap"
   ]
  },
  {
   "cell_type": "code",
   "execution_count": 13,
   "id": "4a853957-0ce2-4cd1-87dd-312c96e54d7e",
   "metadata": {},
   "outputs": [
    {
     "data": {
      "text/plain": [
       "<Figure size 432x288 with 0 Axes>"
      ]
     },
     "metadata": {},
     "output_type": "display_data"
    },
    {
     "data": {
      "image/png": "[encoded data removed]",
      "text/plain": [
       "<Figure size 720x576 with 1 Axes>"
      ]
     },
     "metadata": {},
     "output_type": "display_data"
    }
   ],
   "source": [
    "import matplotlib.pyplot as plt\n",
    "import seaborn as sn\n",
    "plt.clf();                                     # Clear the current figure.\n",
    "\n",
    "fig, ax = plt.subplots(figsize=(10, 8), facecolor=\"#FFFFFF\"); # figure color\n",
    "ax.set_aspect(\"auto\");     # \"equal\", or float representing aspect ratio of y to x\n",
    "plt.title(\"Unemployment by level of education\", fontsize=16, y=1.04,  fontweight=\"bold\")\n",
    "ax.xaxis.label.set_fontsize(14)\n",
    "ax.yaxis.label.set_fontsize(14)\n",
    "plt.xticks(fontsize=12)\n",
    "plt.yticks(fontsize=12)\n",
    "\n",
    "cmap = sn.light_palette(\"seagreen\", as_cmap=True);\n",
    "res = sn.heatmap(ct, annot=True, fmt='.3f', cmap=cmap, cbar=False);\n",
    "\n",
    "plt.savefig(\"crosstab.png\", bbox_inches='tight', dpi=200);        # saves the graph\n",
    "plt.show()"
   ]
  },
  {
   "attachments": {},
   "cell_type": "markdown",
   "id": "baf43628-8fe2-4193-a10c-3f6c46c4a604",
   "metadata": {},
   "source": [
    "### selfmade crosstab\n",
    "to impose the preferred order of row & columns one can create a selfmade crosstab"
   ]
  },
  {
   "cell_type": "code",
   "execution_count": 14,
   "id": "155d235d-1e9e-4072-9bff-db57900a34a5",
   "metadata": {},
   "outputs": [
    {
     "data": {
      "text/html": [
       "<div>\n",
       "<style scoped>\n",
       "    .dataframe tbody tr th:only-of-type {\n",
       "        vertical-align: middle;\n",
       "    }\n",
       "\n",
       "    .dataframe tbody tr th {\n",
       "        vertical-align: top;\n",
       "    }\n",
       "\n",
       "    .dataframe thead th {\n",
       "        text-align: right;\n",
       "    }\n",
       "</style>\n",
       "<table border=\"1\" class=\"dataframe\">\n",
       "  <thead>\n",
       "    <tr style=\"text-align: right;\">\n",
       "      <th></th>\n",
       "      <th>short</th>\n",
       "      <th>middel</th>\n",
       "      <th>long</th>\n",
       "    </tr>\n",
       "  </thead>\n",
       "  <tbody>\n",
       "    <tr>\n",
       "      <th>no</th>\n",
       "      <td>86</td>\n",
       "      <td>19</td>\n",
       "      <td>18</td>\n",
       "    </tr>\n",
       "    <tr>\n",
       "      <th>apprentice</th>\n",
       "      <td>170</td>\n",
       "      <td>43</td>\n",
       "      <td>20</td>\n",
       "    </tr>\n",
       "    <tr>\n",
       "      <th>specialized</th>\n",
       "      <td>40</td>\n",
       "      <td>11</td>\n",
       "      <td>5</td>\n",
       "    </tr>\n",
       "    <tr>\n",
       "      <th>academia</th>\n",
       "      <td>28</td>\n",
       "      <td>4</td>\n",
       "      <td>3</td>\n",
       "    </tr>\n",
       "  </tbody>\n",
       "</table>\n",
       "</div>"
      ],
      "text/plain": [
       "             short  middel  long\n",
       "no              86      19    18\n",
       "apprentice     170      43    20\n",
       "specialized     40      11     5\n",
       "academia        28       4     3"
      ]
     },
     "execution_count": 14,
     "metadata": {},
     "output_type": "execute_result"
    }
   ],
   "source": [
    "df = pd.DataFrame(\n",
    "{\"short\":[86, 170, 40, 28],\n",
    " \"middel\":[19, 43, 11, 4],\n",
    " \"long\":[18,20,5,3] },\n",
    "index = [\"no\" ,\"apprentice\", \"specialized\", \"academia\"])\n",
    "df"
   ]
  },
  {
   "attachments": {},
   "cell_type": "markdown",
   "id": "a78cbac4-1f4c-4783-ad59-81a63f345013",
   "metadata": {},
   "source": [
    "add margin of rows and columns"
   ]
  },
  {
   "cell_type": "code",
   "execution_count": 15,
   "id": "da425756-dd79-44ac-b6da-c20105df5439",
   "metadata": {},
   "outputs": [
    {
     "data": {
      "text/html": [
       "<div>\n",
       "<style scoped>\n",
       "    .dataframe tbody tr th:only-of-type {\n",
       "        vertical-align: middle;\n",
       "    }\n",
       "\n",
       "    .dataframe tbody tr th {\n",
       "        vertical-align: top;\n",
       "    }\n",
       "\n",
       "    .dataframe thead th {\n",
       "        text-align: right;\n",
       "    }\n",
       "</style>\n",
       "<table border=\"1\" class=\"dataframe\">\n",
       "  <thead>\n",
       "    <tr style=\"text-align: right;\">\n",
       "      <th></th>\n",
       "      <th>short</th>\n",
       "      <th>middel</th>\n",
       "      <th>long</th>\n",
       "      <th>sum</th>\n",
       "    </tr>\n",
       "  </thead>\n",
       "  <tbody>\n",
       "    <tr>\n",
       "      <th>no</th>\n",
       "      <td>86.0</td>\n",
       "      <td>19.0</td>\n",
       "      <td>18.0</td>\n",
       "      <td>123.0</td>\n",
       "    </tr>\n",
       "    <tr>\n",
       "      <th>apprentice</th>\n",
       "      <td>170.0</td>\n",
       "      <td>43.0</td>\n",
       "      <td>20.0</td>\n",
       "      <td>233.0</td>\n",
       "    </tr>\n",
       "    <tr>\n",
       "      <th>specialized</th>\n",
       "      <td>40.0</td>\n",
       "      <td>11.0</td>\n",
       "      <td>5.0</td>\n",
       "      <td>56.0</td>\n",
       "    </tr>\n",
       "    <tr>\n",
       "      <th>academia</th>\n",
       "      <td>28.0</td>\n",
       "      <td>4.0</td>\n",
       "      <td>3.0</td>\n",
       "      <td>35.0</td>\n",
       "    </tr>\n",
       "    <tr>\n",
       "      <th>sum</th>\n",
       "      <td>324.0</td>\n",
       "      <td>77.0</td>\n",
       "      <td>46.0</td>\n",
       "      <td>447.0</td>\n",
       "    </tr>\n",
       "  </tbody>\n",
       "</table>\n",
       "</div>"
      ],
      "text/plain": [
       "             short  middel  long    sum\n",
       "no            86.0    19.0  18.0  123.0\n",
       "apprentice   170.0    43.0  20.0  233.0\n",
       "specialized   40.0    11.0   5.0   56.0\n",
       "academia      28.0     4.0   3.0   35.0\n",
       "sum          324.0    77.0  46.0  447.0"
      ]
     },
     "execution_count": 15,
     "metadata": {},
     "output_type": "execute_result"
    }
   ],
   "source": [
    "#Total sum per row: \n",
    "df.loc[:, \"sum\"] = df.sum(axis=1)\n",
    "#Total sum per column: \n",
    "df.loc['sum',:]= df.sum(axis=0)\n",
    "df"
   ]
  },
  {
   "attachments": {},
   "cell_type": "markdown",
   "id": "a0b53c30-1fde-408c-b2a4-1cd1655953d3",
   "metadata": {},
   "source": [
    "### relative frequency"
   ]
  },
  {
   "cell_type": "code",
   "execution_count": 16,
   "id": "b4ac2a1c-3e95-4c43-974e-b260ff924a05",
   "metadata": {},
   "outputs": [],
   "source": [
    "rel = round(df/447, 4)  # divided by total, round to 4 figures"
   ]
  },
  {
   "cell_type": "code",
   "execution_count": 17,
   "id": "856de73e-676a-43a2-9937-c3a0beb5863a",
   "metadata": {},
   "outputs": [
    {
     "data": {
      "image/png": "[encoded data removed]",
      "text/plain": [
       "<Figure size 432x288 with 2 Axes>"
      ]
     },
     "metadata": {
      "needs_background": "light"
     },
     "output_type": "display_data"
    }
   ],
   "source": [
    "# c = sn.light_palette((248,43,71), input=\"husl\", as_cmap=True);\n",
    "c = sn.light_palette(\"#8D3056\", as_cmap=True)\n",
    "res = sn.heatmap(rel, annot=True, fmt='.3f', cmap=c, cbar=True);"
   ]
  }
 ],
 "metadata": {
  "kernelspec": {
   "display_name": "Python 3.8.12 64-bit ('lewagon')",
   "language": "python",
   "name": "python3"
  },
  "language_info": {
   "codemirror_mode": {
    "name": "ipython",
    "version": 3
   },
   "file_extension": ".py",
   "mimetype": "text/x-python",
   "name": "python",
   "nbconvert_exporter": "python",
   "pygments_lexer": "ipython3",
   "version": "3.8.12"
  },
  "orig_nbformat": 4,
  "vscode": {
   "interpreter": {
    "hash": "ad7afd56c4a9327988b254949fc9ff6c4de57fd051da33a62b5f87e3ddafe8d2"
   }
  }
 },
 "nbformat": 4,
 "nbformat_minor": 2
}
