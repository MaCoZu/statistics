{
 "cells": [
  {
   "cell_type": "code",
   "execution_count": 6,
   "metadata": {},
   "outputs": [],
   "source": [
    "import itertools\n",
    "import math\n",
    "import statistics as stat\n",
    "\n",
    "import matplotlib.pyplot as plt\n",
    "import numpy as np\n",
    "import pandas as pd\n",
    "import scipy\n",
    "import seaborn as sns"
   ]
  },
  {
   "cell_type": "code",
   "execution_count": 2,
   "metadata": {},
   "outputs": [
    {
     "data": {
      "text/html": [
       "<div>\n",
       "<style scoped>\n",
       "    .dataframe tbody tr th:only-of-type {\n",
       "        vertical-align: middle;\n",
       "    }\n",
       "\n",
       "    .dataframe tbody tr th {\n",
       "        vertical-align: top;\n",
       "    }\n",
       "\n",
       "    .dataframe thead th {\n",
       "        text-align: right;\n",
       "    }\n",
       "</style>\n",
       "<table border=\"1\" class=\"dataframe\">\n",
       "  <thead>\n",
       "    <tr style=\"text-align: right;\">\n",
       "      <th></th>\n",
       "      <th>Index</th>\n",
       "      <th>Height(Inches)</th>\n",
       "      <th>Weight(Pounds)</th>\n",
       "      <th>Height(cm)</th>\n",
       "      <th>Weight(Kg)</th>\n",
       "    </tr>\n",
       "  </thead>\n",
       "  <tbody>\n",
       "    <tr>\n",
       "      <th>0</th>\n",
       "      <td>1</td>\n",
       "      <td>65.78331</td>\n",
       "      <td>112.9925</td>\n",
       "      <td>167.09</td>\n",
       "      <td>51.25</td>\n",
       "    </tr>\n",
       "    <tr>\n",
       "      <th>1</th>\n",
       "      <td>2</td>\n",
       "      <td>71.51521</td>\n",
       "      <td>136.4873</td>\n",
       "      <td>181.65</td>\n",
       "      <td>61.91</td>\n",
       "    </tr>\n",
       "    <tr>\n",
       "      <th>2</th>\n",
       "      <td>3</td>\n",
       "      <td>69.39874</td>\n",
       "      <td>153.0269</td>\n",
       "      <td>176.27</td>\n",
       "      <td>69.41</td>\n",
       "    </tr>\n",
       "    <tr>\n",
       "      <th>3</th>\n",
       "      <td>4</td>\n",
       "      <td>68.21660</td>\n",
       "      <td>142.3354</td>\n",
       "      <td>173.27</td>\n",
       "      <td>64.56</td>\n",
       "    </tr>\n",
       "    <tr>\n",
       "      <th>4</th>\n",
       "      <td>5</td>\n",
       "      <td>67.78781</td>\n",
       "      <td>144.2971</td>\n",
       "      <td>172.18</td>\n",
       "      <td>65.45</td>\n",
       "    </tr>\n",
       "  </tbody>\n",
       "</table>\n",
       "</div>"
      ],
      "text/plain": [
       "   Index  Height(Inches)  Weight(Pounds)  Height(cm)  Weight(Kg)\n",
       "0      1        65.78331        112.9925      167.09       51.25\n",
       "1      2        71.51521        136.4873      181.65       61.91\n",
       "2      3        69.39874        153.0269      176.27       69.41\n",
       "3      4        68.21660        142.3354      173.27       64.56\n",
       "4      5        67.78781        144.2971      172.18       65.45"
      ]
     },
     "execution_count": 2,
     "metadata": {},
     "output_type": "execute_result"
    }
   ],
   "source": [
    "data = pd.read_csv(\"data/height_weight.csv\")\n",
    "data[\"Height(cm)\"] = round(data[\"Height(Inches)\"]*2.54, 2)\n",
    "data[\"Weight(Kg)\"] = round(data[\"Weight(Pounds)\"]*0.4535924, 2)\n",
    "heights = data[\"Height(cm)\"]\n",
    "weights = data[\"Weight(Kg)\"]\n",
    "data.head()"
   ]
  },
  {
   "cell_type": "markdown",
   "metadata": {},
   "source": [
    "# Descriptive Statistics"
   ]
  },
  {
   "cell_type": "code",
   "execution_count": 7,
   "metadata": {},
   "outputs": [
    {
     "data": {
      "text/html": [
       "<div>\n",
       "<style scoped>\n",
       "    .dataframe tbody tr th:only-of-type {\n",
       "        vertical-align: middle;\n",
       "    }\n",
       "\n",
       "    .dataframe tbody tr th {\n",
       "        vertical-align: top;\n",
       "    }\n",
       "\n",
       "    .dataframe thead th {\n",
       "        text-align: right;\n",
       "    }\n",
       "</style>\n",
       "<table border=\"1\" class=\"dataframe\">\n",
       "  <thead>\n",
       "    <tr style=\"text-align: right;\">\n",
       "      <th></th>\n",
       "      <th>Index</th>\n",
       "      <th>Height(Inches)</th>\n",
       "      <th>Weight(Pounds)</th>\n",
       "      <th>Height(cm)</th>\n",
       "      <th>Weight(Kg)</th>\n",
       "    </tr>\n",
       "  </thead>\n",
       "  <tbody>\n",
       "    <tr>\n",
       "      <th>count</th>\n",
       "      <td>25000.000000</td>\n",
       "      <td>25000.000000</td>\n",
       "      <td>25000.000000</td>\n",
       "      <td>25000.000000</td>\n",
       "      <td>25000.000000</td>\n",
       "    </tr>\n",
       "    <tr>\n",
       "      <th>mean</th>\n",
       "      <td>12500.500000</td>\n",
       "      <td>67.993114</td>\n",
       "      <td>127.079421</td>\n",
       "      <td>172.702519</td>\n",
       "      <td>57.642282</td>\n",
       "    </tr>\n",
       "    <tr>\n",
       "      <th>std</th>\n",
       "      <td>7217.022701</td>\n",
       "      <td>1.901679</td>\n",
       "      <td>11.660898</td>\n",
       "      <td>4.830288</td>\n",
       "      <td>5.289287</td>\n",
       "    </tr>\n",
       "    <tr>\n",
       "      <th>min</th>\n",
       "      <td>1.000000</td>\n",
       "      <td>60.278360</td>\n",
       "      <td>78.014760</td>\n",
       "      <td>153.110000</td>\n",
       "      <td>35.390000</td>\n",
       "    </tr>\n",
       "    <tr>\n",
       "      <th>25%</th>\n",
       "      <td>6250.750000</td>\n",
       "      <td>66.704397</td>\n",
       "      <td>119.308675</td>\n",
       "      <td>169.430000</td>\n",
       "      <td>54.120000</td>\n",
       "    </tr>\n",
       "    <tr>\n",
       "      <th>50%</th>\n",
       "      <td>12500.500000</td>\n",
       "      <td>67.995700</td>\n",
       "      <td>127.157750</td>\n",
       "      <td>172.710000</td>\n",
       "      <td>57.680000</td>\n",
       "    </tr>\n",
       "    <tr>\n",
       "      <th>75%</th>\n",
       "      <td>18750.250000</td>\n",
       "      <td>69.272958</td>\n",
       "      <td>134.892850</td>\n",
       "      <td>175.950000</td>\n",
       "      <td>61.190000</td>\n",
       "    </tr>\n",
       "    <tr>\n",
       "      <th>max</th>\n",
       "      <td>25000.000000</td>\n",
       "      <td>75.152800</td>\n",
       "      <td>170.924000</td>\n",
       "      <td>190.890000</td>\n",
       "      <td>77.530000</td>\n",
       "    </tr>\n",
       "  </tbody>\n",
       "</table>\n",
       "</div>"
      ],
      "text/plain": [
       "              Index  Height(Inches)  Weight(Pounds)    Height(cm)  \\\n",
       "count  25000.000000    25000.000000    25000.000000  25000.000000   \n",
       "mean   12500.500000       67.993114      127.079421    172.702519   \n",
       "std     7217.022701        1.901679       11.660898      4.830288   \n",
       "min        1.000000       60.278360       78.014760    153.110000   \n",
       "25%     6250.750000       66.704397      119.308675    169.430000   \n",
       "50%    12500.500000       67.995700      127.157750    172.710000   \n",
       "75%    18750.250000       69.272958      134.892850    175.950000   \n",
       "max    25000.000000       75.152800      170.924000    190.890000   \n",
       "\n",
       "         Weight(Kg)  \n",
       "count  25000.000000  \n",
       "mean      57.642282  \n",
       "std        5.289287  \n",
       "min       35.390000  \n",
       "25%       54.120000  \n",
       "50%       57.680000  \n",
       "75%       61.190000  \n",
       "max       77.530000  "
      ]
     },
     "execution_count": 7,
     "metadata": {},
     "output_type": "execute_result"
    }
   ],
   "source": [
    "data.describe()"
   ]
  },
  {
   "cell_type": "code",
   "execution_count": 4,
   "metadata": {},
   "outputs": [
    {
     "data": {
      "text/plain": [
       "172.70251880000004"
      ]
     },
     "execution_count": 4,
     "metadata": {},
     "output_type": "execute_result"
    }
   ],
   "source": [
    "np.median(heights)\n",
    "stat.mode(heights)\n",
    "np.min(heights)\n",
    "\n",
    "# range\n",
    "np.ptp(heights) # peak to peak\n",
    "np.max(heights) - np.min(heights)\n",
    "np.max(heights)\n",
    "np.mean(heights)"
   ]
  },
  {
   "cell_type": "code",
   "execution_count": null,
   "metadata": {},
   "outputs": [],
   "source": [
    "import statistics as stat\n",
    "\n",
    "stat.mean(heights) # Arithmetic mean (“average”) of data.\n",
    "stat.fmean() # Fast, floating point arithmetic mean.\n",
    "stat.geometric_mean() # Geometric mean of data.\n",
    "stat.harmonic_mean() # Harmonic mean of data.\n",
    "stat.median(heights) # Median (middle value) of data.\n",
    "stat.median_low(heights) # Low median of data.\n",
    "stat.median_high(heights) # High median of data.\n",
    "stat.median_grouped(heights) # Median, or 50th percentile, of grouped data.\n",
    "stat.mode(heights) # Single mode (most common value) of discrete or nominal data.\n",
    "stat.multimode( [2, 3, 4, 2])  # List of modes (most common values) of discrete or nominal data.\n",
    "stat.quantiles() # Divide data into intervals with equal probability."
   ]
  },
  {
   "cell_type": "code",
   "execution_count": 14,
   "metadata": {},
   "outputs": [
    {
     "name": "stderr",
     "output_type": "stream",
     "text": [
      "/home/mz/micromamba/envs/py/lib/python3.11/site-packages/numpy/core/_methods.py:53: RuntimeWarning: overflow encountered in reduce\n",
      "  return umr_prod(a, axis, dtype, out, keepdims, initial, where)\n",
      "/home/mz/micromamba/envs/py/lib/python3.11/site-packages/numpy/core/fromnumeric.py:59: RuntimeWarning: overflow encountered in accumulate\n",
      "  return bound(*args, **kwds)\n"
     ]
    },
    {
     "data": {
      "text/plain": [
       "25000"
      ]
     },
     "execution_count": 14,
     "metadata": {},
     "output_type": "execute_result"
    }
   ],
   "source": [
    "## Pandas\n",
    "heights.mean() \t      \n",
    "heights.std() \t\n",
    "heights.min() \t\n",
    "heights.prod() \t\n",
    "heights.cumsum() \t\n",
    "heights.cumprod() \t\n",
    "heights.median() \t\n",
    "heights.abs() \t\n",
    "heights.max() \t\n",
    "heights.mode() \t\n",
    "heights.sum() \t            \n",
    "heights.count() \t       "
   ]
  },
  {
   "cell_type": "markdown",
   "metadata": {},
   "source": [
    "## std, var, cov"
   ]
  },
  {
   "cell_type": "code",
   "execution_count": 5,
   "metadata": {},
   "outputs": [
    {
     "data": {
      "text/plain": [
       "0.5028506474478229"
      ]
     },
     "execution_count": 5,
     "metadata": {},
     "output_type": "execute_result"
    }
   ],
   "source": [
    "# population variance\n",
    "np.var(heights)\n",
    "stat.pvariance(heights)  # Population variance of data.\n",
    "\n",
    "# population standard deviation\n",
    "np.std(heights)\n",
    "stat.pstdev(heights)  # Population standard deviation of data.\n",
    "\n",
    "# sample variance\n",
    "np.var(heights, ddof=1)\n",
    "stat.variance(heights)  # Sample variance of data.\n",
    "\n",
    "# sample std\n",
    "np.std(heights, ddof=1)\n",
    "stat.stdev(heights)  # Sample standard deviation of data.\n",
    "\n",
    "# covariance\n",
    "np.cov(heights, weights)[0, 1]\n",
    "\n",
    "# correlation\n",
    "np.corrcoef(heights, weights)[0, 1]"
   ]
  },
  {
   "cell_type": "markdown",
   "metadata": {},
   "source": [
    "## percentile"
   ]
  },
  {
   "cell_type": "code",
   "execution_count": 6,
   "metadata": {},
   "outputs": [
    {
     "data": {
      "text/plain": [
       "172.71"
      ]
     },
     "execution_count": 6,
     "metadata": {},
     "output_type": "execute_result"
    }
   ],
   "source": [
    "np.percentile(heights, 25) # 25% of the heights is under this point, 75% over\n",
    "np.percentile(heights, 75) # \n",
    "np.percentile(heights, 100) # max\n",
    "np.percentile(heights, 0) # min\n",
    "np.percentile(heights, 50) # median: np.median(heights)"
   ]
  },
  {
   "cell_type": "code",
   "execution_count": 7,
   "metadata": {},
   "outputs": [
    {
     "data": {
      "text/plain": [
       "count    25000.00\n",
       "mean       172.70\n",
       "std          4.83\n",
       "min        153.11\n",
       "25%        169.43\n",
       "50%        172.71\n",
       "75%        175.95\n",
       "max        190.89\n",
       "Name: Height(cm), dtype: float64"
      ]
     },
     "execution_count": 7,
     "metadata": {},
     "output_type": "execute_result"
    }
   ],
   "source": [
    "data[\"Height(cm)\"].describe().round(2)"
   ]
  },
  {
   "cell_type": "markdown",
   "metadata": {},
   "source": [
    "## inter quartile range"
   ]
  },
  {
   "cell_type": "code",
   "execution_count": 8,
   "metadata": {},
   "outputs": [
    {
     "data": {
      "text/plain": [
       "6.519999999999982"
      ]
     },
     "execution_count": 8,
     "metadata": {},
     "output_type": "execute_result"
    }
   ],
   "source": [
    "iqr = np.percentile(heights, 75) - np.percentile(heights, 25) # 175.95 - 169.43\n",
    "iqr"
   ]
  },
  {
   "cell_type": "code",
   "execution_count": 15,
   "metadata": {},
   "outputs": [
    {
     "data": {
      "image/png": "[encoded data removed]",
      "text/plain": [
       "<Figure size 1200x500 with 2 Axes>"
      ]
     },
     "metadata": {},
     "output_type": "display_data"
    }
   ],
   "source": [
    "fig, axes = plt.subplots(1, 2, figsize=(12, 5))\n",
    "\n",
    "flierprops = dict(marker='.', markerfacecolor='darkred', markersize=6, markeredgecolor='none')\n",
    "\n",
    "axes[0].boxplot(heights, flierprops=flierprops)\n",
    "axes[0].set_title(\"Box Plot\")\n",
    "\n",
    "sns.histplot( heights, stat='density', ax=axes[1],\n",
    "    facecolor=\"skyblue\", bins=20, )\n",
    "\n",
    "sns.kdeplot(heights, color='orange', lw=2, ax=axes[1])\n",
    "\n",
    "axes[1].set_title(\"Histogram\")\n",
    "plt.tight_layout()\n",
    "plt.show()"
   ]
  },
  {
   "cell_type": "code",
   "execution_count": 12,
   "metadata": {},
   "outputs": [
    {
     "data": {
      "image/png": "[encoded data removed]",
      "text/plain": [
       "<Figure size 800x300 with 1 Axes>"
      ]
     },
     "metadata": {},
     "output_type": "display_data"
    }
   ],
   "source": [
    "plt.figure(figsize=(8, 3))\n",
    "sns.histplot(heights, stat='density', color='royalblue')\n",
    "sns.kdeplot(heights, color='deeppink', lw=2)\n",
    "\n",
    "plt.show()"
   ]
  },
  {
   "cell_type": "code",
   "execution_count": 5,
   "metadata": {},
   "outputs": [
    {
     "data": {
      "image/png": "[encoded data removed]",
      "text/plain": [
       "<Figure size 1400x150 with 1 Axes>"
      ]
     },
     "metadata": {},
     "output_type": "display_data"
    }
   ],
   "source": [
    "from stats_functions import confidence_interval\n",
    "\n",
    "sample = heights[:30] # small sample to see margins of the confidence interval\n",
    "lower_margin, upper_margin = confidence_interval(sample, .95)\n",
    "\n",
    "plt.figure(figsize=(14, 1.5))\n",
    "sns.histplot(sample, stat='density', facecolor=\"skyblue\", bins=10)\n",
    "\n",
    "# Add vertical lines for confidence interval\n",
    "plt.axvline(lower_margin, color='red', linestyle='dashed', linewidth=2, label='Lower Bound (95% CI)')\n",
    "plt.axvline(upper_margin, color='green', linestyle='dashed', linewidth=2, label='Upper Bound (95% CI)')\n",
    "plt.show()"
   ]
  },
  {
   "cell_type": "markdown",
   "metadata": {},
   "source": [
    "# Measures in detail"
   ]
  },
  {
   "cell_type": "markdown",
   "metadata": {},
   "source": [
    "<img src=\"https://upload.wikimedia.org/wikipedia/commons/3/33/Visualisation_mode_median_mean.svg\" width=260 height=250 />"
   ]
  },
  {
   "cell_type": "markdown",
   "metadata": {},
   "source": [
    "### Arithmetic mean\n",
    "${\\displaystyle A={\\frac {1}{n}}\\sum _{i=1}^{n}a_{i}={\\frac {a_{1}+a_{2}+\\cdots +a_{n}}{n}}}$\n",
    "- Useful to characterize symmetric distributions without outliers \n",
    "- the arithmetic mean is greatly influenced by outliers and thus not **robust**\n",
    "- for skewed distributions the a. mean diviates from the mode and modus<br>"
   ]
  },
  {
   "cell_type": "code",
   "execution_count": null,
   "metadata": {},
   "outputs": [
    {
     "data": {
      "text/plain": [
       "5.75"
      ]
     },
     "metadata": {},
     "output_type": "display_data"
    }
   ],
   "source": [
    "def my_amean (num: list) -> float:\n",
    "    sum = 0\n",
    "    for numbers in num:\n",
    "        sum += numbers\n",
    "    amean = sum / len(num)\n",
    "    return amean\n",
    "\n",
    "my_amean([3,5,6,9])"
   ]
  },
  {
   "cell_type": "markdown",
   "metadata": {},
   "source": [
    "### Median\n",
    "$\\tilde x\n",
    "=\\begin{cases}\n",
    "  x_{m+1}                     & \\text { for odd n = 2m+1}\\\\\n",
    "  \\frac{1}{2} (x_m + x_{m+1}) & \\text { for even n = 2m}\n",
    "\\end{cases}\n",
    "$\n",
    "- Exact **middle value among a dataset**.\n",
    "- The median $\\tilde x$ is the **value splitting the higher half from the lower half** of a data sample.<br>\n",
    "- **Useful for skewed distribution or data with outliers.**\n",
    "- The basic feature of the median in describing data compared to the mean $\\overline x$ is that it is not skewed by a small proportion of extremely large or small values, and therefore provides a better representation of a \"typical\" value. \n",
    "- The median is  the **most resistant / robust statistic** \n"
   ]
  },
  {
   "cell_type": "code",
   "execution_count": null,
   "metadata": {},
   "outputs": [
    {
     "data": {
      "text/plain": [
       "25"
      ]
     },
     "metadata": {},
     "output_type": "display_data"
    }
   ],
   "source": [
    "def my_median (num: list) -> float:\n",
    "    '''number that resides in the middle of a sorted list of  numbers'''\n",
    "    ls = sorted(num)\n",
    "    lg = len(num)\n",
    "    m = lg/2\n",
    "    if lg%2 == 1:\n",
    "        med = ls[int(m)]\n",
    "    else:\n",
    "        med = (ls[int(m-1)]+ls[int(m)])/2\n",
    "    return med\n",
    "\n",
    "my_median([10,17,20, 22, 25, 34, 37, 48, 59])"
   ]
  },
  {
   "cell_type": "markdown",
   "metadata": {},
   "source": [
    "## Mode\n",
    "- The mode is the value that appears most often in a set of data values.<br>\n",
    "- The numerical value of the mode is the same as that of the mean and median in a normal distribution, and it may be very different in highly skewed distributions. <br>\n"
   ]
  },
  {
   "cell_type": "code",
   "execution_count": null,
   "metadata": {},
   "outputs": [
    {
     "data": {
      "text/plain": [
       "[2, 3]"
      ]
     },
     "metadata": {},
     "output_type": "display_data"
    }
   ],
   "source": [
    "import statistics as stat\n",
    "stat.mode([2, 3, 4, 2])\n",
    "stat.multimode([2, 3, 3, 4, 2]) # if there's more than one mode"
   ]
  },
  {
   "cell_type": "code",
   "execution_count": null,
   "metadata": {},
   "outputs": [
    {
     "data": {
      "text/plain": [
       "[2, 3]"
      ]
     },
     "metadata": {},
     "output_type": "display_data"
    }
   ],
   "source": [
    "def my_mode(ls):\n",
    "    ''' mode that allows for more than one mode value'''\n",
    "    # count - counts elements in an iterable\n",
    "    # map - goes ove every element in iterable\n",
    "    # filter - picks items for wich the filter criteria is true\n",
    "    most = max(list(map(ls.count, ls)))\n",
    "    return list(set(filter(lambda x: ls.count(x) == most, ls)))\n",
    "\n",
    "my_mode([2,3,5, 5, 5, 2, 3, 8])\n",
    "my_mode([1, 2, 2, 3, 3])\n"
   ]
  },
  {
   "cell_type": "code",
   "execution_count": null,
   "metadata": {},
   "outputs": [
    {
     "data": {
      "text/plain": [
       "[2, 3]"
      ]
     },
     "metadata": {},
     "output_type": "display_data"
    }
   ],
   "source": [
    "def my_modus(num: list) -> float:\n",
    "    ''' mode that allows for more than one mode value'''\n",
    "    freq = {}                             # build a dict, that lists the existing vakues and their frequencies\n",
    "    for x in num:\n",
    "        h = num.count(x)          # count frequency of value x\n",
    "        freq[x] = h                     # add value x and it's frequency to the dict\n",
    "\n",
    "    value_list = list(freq.values())    # make two lists of the same lenght out of\n",
    "    key_list = list(freq.keys())          # dictionaries keys and values\n",
    "\n",
    "    maximum = 0                         # find max frequency\n",
    "    for y in value_list:\n",
    "        if  y > maximum:\n",
    "            maximum = y\n",
    "\n",
    "    position = value_list.index(maximum)    # take position of max frequency to extract corresponding key\n",
    "    return key_list[position]\n",
    "\n",
    "\n",
    "my_modus([1, 2, 3])\n",
    "my_mode([1, 2, 2, 3, 3])\n"
   ]
  },
  {
   "cell_type": "markdown",
   "metadata": {},
   "source": [
    "## Geometric Mean\n",
    "- Useful for averaging ratios. (growth of figures, population growth, interest rates)\n",
    "- Always less than arithmetic mean\n",
    "\n",
    "The geometric mean is one of the three classical Pythagorean means, together with the arithmetic mean and the harmonic mean. For all positive data sets containing at least one pair of unequal values, the harmonic mean is always the least of the three means, while the arithmetic mean is always the greatest of the three and the geometric mean is always in between (see Inequality of arithmetic and geometric means.) \n",
    "\n",
    "$\\left(\\prod _{i=1}^{n}x_{i}\\right)^{\\frac {1}{n}}={\\sqrt[{n}]{x_{1}x_{2}\\cdots x_{n}}}$"
   ]
  },
  {
   "cell_type": "code",
   "execution_count": null,
   "metadata": {},
   "outputs": [
    {
     "data": {
      "text/plain": [
       "46.415888336127786"
      ]
     },
     "metadata": {},
     "output_type": "display_data"
    }
   ],
   "source": [
    "from scipy.stats import gmean\n",
    "gmean([1.0, 0.00001, 10000000000.])"
   ]
  },
  {
   "cell_type": "code",
   "execution_count": null,
   "metadata": {},
   "outputs": [
    {
     "data": {
      "text/plain": [
       "46.415888336127786"
      ]
     },
     "metadata": {},
     "output_type": "display_data"
    }
   ],
   "source": [
    "from statistics import geometric_mean\n",
    "geometric_mean([1.0, 0.00001, 10000000000.])"
   ]
  },
  {
   "cell_type": "code",
   "execution_count": null,
   "metadata": {},
   "outputs": [
    {
     "data": {
      "text/plain": [
       "2.0"
      ]
     },
     "metadata": {},
     "output_type": "display_data"
    }
   ],
   "source": [
    "def my_geomean(ls: list) -> float:\n",
    "    '''mean or average, which indicates the central tendency or \n",
    "    typical value of a set of numbers by using the product of their value'''\n",
    "    growthfactors = []\n",
    "\n",
    "    for index in range(1, len(ls)):          # range fct spits out the indexes\n",
    "        g_fact = ls[index]/ls[index-1]\n",
    "        growthfactors.append(g_fact)         # create a list\n",
    "\n",
    "    prod = 1                                 # product of list instead of product()\n",
    "    for fact in  growthfactors:\n",
    "        prod *= fact\n",
    "\n",
    "    geo_mean = prod**(1/2)\n",
    "    return geo_mean\n",
    "\n",
    "\n",
    "my_geomean([2, 3, 5, 5, 5, 2, 3, 8])\n"
   ]
  },
  {
   "cell_type": "markdown",
   "metadata": {},
   "source": [
    "## Harmonic Mean\n",
    "The harmonic mean is one of the Pythagorean means. <br>\n",
    "It is sometimes appropriate for situations when the average rate is desired. \n",
    "\n",
    "The harmonic mean can be expressed as the reciprocal of the arithmetic mean of the reciprocals of the given set of observations. As a simple example, the harmonic mean of 1, 4, and 4 is \n",
    "\n",
    "$\\left(\\frac{1^{-1} + 4^{-1} + 4^{-1}}{3}\\right)^{-1} = \\frac{3}{\\frac{1}{1} + \\frac{1}{4} + \\frac{1}{4}} = \\frac{3}{1.5} = 2$\n",
    "\n",
    "$\\frac {n}{\\frac{1}{x_1}+\\frac{1}{x_2}+\\frac{1}{x_3}+…+\\frac{1}{x_n}}$\n",
    "\n",
    "In many situations involving rates and ratios, the harmonic mean provides the correct average.\n",
    "\n",
    "The weighted harmonic mean is the preferable method for averaging multiples, such as the price–earnings ratio. If these ratios are averaged using a weighted arithmetic mean, high data points are given greater weights than low data points. The weighted harmonic mean, on the other hand, correctly weights each data point.\n",
    "\n",
    "\n",
    "If a set of [[weight function|weights]] $w_1 ..., w_n$ is associated to the dataset $x_1, ..., x_n$, the '''weighted harmonic mean''' is defined by \n",
    "\n",
    "  $H = \\frac{\\sum\\limits_{i=1}^n w_i}{\\sum\\limits_{i=1}^n \\frac{w_i}{x_i}}\n",
    "    = \\left( \\frac{\\sum\\limits_{i=1}^n w_i x_i^{-1}}{\\sum\\limits_{i=1}^n w_i} \\right)^{-1}$\n",
    "\n",
    "The unweighted harmonic mean can be regarded as the special case where all of the weights are equal."
   ]
  },
  {
   "cell_type": "code",
   "execution_count": null,
   "metadata": {},
   "outputs": [],
   "source": [
    "def my_harmonic_mean(ls: list) -> float:\n",
    "    sum = 0\n",
    "    for x in ls:\n",
    "        sum += 1/x\n",
    "    mean = sum / len(ls)\n",
    "    hmean = 1/mean\n",
    "    return hmean"
   ]
  },
  {
   "cell_type": "code",
   "execution_count": null,
   "metadata": {},
   "outputs": [
    {
     "name": "stdout",
     "output_type": "stream",
     "text": [
      "114.46005782930303\n"
     ]
    }
   ],
   "source": [
    "growth = (100, 103, 104, 134, 145)\n",
    "print(my_harmonic_mean(growth))"
   ]
  },
  {
   "cell_type": "code",
   "execution_count": null,
   "metadata": {},
   "outputs": [
    {
     "data": {
      "text/plain": [
       "114.46005782930303"
      ]
     },
     "metadata": {},
     "output_type": "display_data"
    }
   ],
   "source": [
    "import statistics as stats\n",
    "\n",
    "stats.harmonic_mean([100, 103, 104, 134, 145])\n",
    "stats.harmonic_mean([40, 60], weights=[5, 30]) # with weights"
   ]
  }
 ],
 "metadata": {
  "kernelspec": {
   "display_name": "Python 3",
   "language": "python",
   "name": "python3"
  },
  "language_info": {
   "codemirror_mode": {
    "name": "ipython",
    "version": 3
   },
   "file_extension": ".py",
   "mimetype": "text/x-python",
   "name": "python",
   "nbconvert_exporter": "python",
   "pygments_lexer": "ipython3",
   "version": "3.11.5"
  }
 },
 "nbformat": 4,
 "nbformat_minor": 2
}
