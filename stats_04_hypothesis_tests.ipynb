{
 "cells": [
  {
   "cell_type": "markdown",
   "id": "e9054c2b-5d4d-4c87-8040-7c9c8775c8f4",
   "metadata": {},
   "source": [
    "# Hypothesis Tests"
   ]
  },
  {
   "cell_type": "code",
   "execution_count": 1,
   "metadata": {},
   "outputs": [],
   "source": [
    "from scipy import stats"
   ]
  },
  {
   "cell_type": "markdown",
   "id": "f6901345",
   "metadata": {},
   "source": [
    "## z-test\n",
    "- prerequisite: normal distribution"
   ]
  },
  {
   "cell_type": "code",
   "execution_count": 2,
   "id": "43119509",
   "metadata": {},
   "outputs": [
    {
     "data": {
      "text/plain": [
       "array([-0.73901556,  0.70864505,  1.69568638,  0.37963128, -1.39704311,\n",
       "       -0.08098801, -0.73901556, -1.39704311,  0.57703954, -0.08098801,\n",
       "       -0.73901556, -0.08098801,  1.89309464])"
      ]
     },
     "execution_count": 2,
     "metadata": {},
     "output_type": "execute_result"
    }
   ],
   "source": [
    "# convert a bunch of observaions into z-scores \n",
    "# z = (x-mean)/std\n",
    "z = stats.zscore([2, 4.2, 5.7, 3.7, 1, 3, 2, 1, 4, 3, 2, 3, 6])\n",
    "z"
   ]
  },
  {
   "cell_type": "code",
   "execution_count": 3,
   "id": "9d35c499",
   "metadata": {},
   "outputs": [
    {
     "data": {
      "text/plain": [
       "0.9708273577780218"
      ]
     },
     "execution_count": 3,
     "metadata": {},
     "output_type": "execute_result"
    }
   ],
   "source": [
    "from scipy import stats\n",
    "# propability to get a z-value up to x\n",
    "# cdf cummulative distribution fct.\n",
    "# left-tailed\n",
    "stats.norm.cdf(z[-1])"
   ]
  },
  {
   "cell_type": "code",
   "execution_count": null,
   "id": "7fcc0b1c",
   "metadata": {},
   "outputs": [
    {
     "data": {
      "text/plain": [
       "0.02917264222197824"
      ]
     },
     "metadata": {},
     "output_type": "display_data"
    }
   ],
   "source": [
    "# how probable is it to get a value more extreme \n",
    "# than the observed one, on  the upper end of the distro\n",
    "# right-tailed\n",
    "1 - stats.norm.cdf(z[-1])"
   ]
  },
  {
   "cell_type": "markdown",
   "id": "9bbca8cd",
   "metadata": {},
   "source": [
    "## t-test\n",
    "- one sample t-test: $\\mu = \\mu_{given}$\n",
    "- two-sample t-test: $H_0: \\mu_1 = \\mu_2$ \n",
    "- pairwise differences: $\\mu_{before} = \\mu_{after} \\quad$ resp. $\\quad \\mu_{difference} = 0$\n",
    "- we need at least N > 30"
   ]
  },
  {
   "cell_type": "markdown",
   "id": "48a98052",
   "metadata": {},
   "source": [
    "### one-sample"
   ]
  },
  {
   "cell_type": "code",
   "execution_count": null,
   "id": "e35b4779",
   "metadata": {},
   "outputs": [
    {
     "data": {
      "text/plain": [
       "Ttest_1sampResult(statistic=-9.353692699235728, pvalue=0.0007274958924473985)"
      ]
     },
     "metadata": {},
     "output_type": "display_data"
    }
   ],
   "source": [
    "# [observations], mean\n",
    "# 5.2 is the mean we want to test\n",
    "# how likely is 5.2 as mean when we see these obseravtions\n",
    "# output: t-value, p-value\n",
    "tt = stats.ttest_1samp([2 ,4, 5.1, 7, 8], 15.2)\n",
    "tt"
   ]
  },
  {
   "cell_type": "markdown",
   "id": "b56dbbe8",
   "metadata": {},
   "source": [
    "### two-sample"
   ]
  },
  {
   "cell_type": "code",
   "execution_count": null,
   "id": "f6858e05",
   "metadata": {},
   "outputs": [
    {
     "data": {
      "text/plain": [
       "Ttest_indResult(statistic=-3.5825284929430237, pvalue=0.007161878118066208)"
      ]
     },
     "metadata": {},
     "output_type": "display_data"
    }
   ],
   "source": [
    "# do two samples have the same mean ?\n",
    "# sample size can differ\n",
    "t2 = stats.ttest_ind([10, 15, 12, 13], [50, 30, 60, 70, 50, 20])\n",
    "t2"
   ]
  },
  {
   "cell_type": "markdown",
   "id": "ae7f6a6b",
   "metadata": {},
   "source": [
    "### pairwise-difference"
   ]
  },
  {
   "cell_type": "code",
   "execution_count": null,
   "id": "4c457d5d",
   "metadata": {},
   "outputs": [
    {
     "data": {
      "text/plain": [
       "Ttest_1sampResult(statistic=-1.1920791213585396, pvalue=0.31893179191277526)"
      ]
     },
     "metadata": {},
     "output_type": "display_data"
    }
   ],
   "source": [
    "# sample size is equal, test/ask the same statistical units before and after\n",
    "# H_0 says there is no difference p > 0.05\n",
    "# if there is a difference p < 0.05\n",
    "tp0 = stats.ttest_rel([4, 5 ,6, 7], [7, 8, 7, 9])\n",
    "tp1 = stats.ttest_rel([4, 5 ,6, 7], [3, 6, 7, 9])\n",
    "tp2 = stats.ttest_1samp([1, -1, -1, -2], 0) # the same as tp1, but we build the diff and test if mu = 0 \n",
    "\n",
    "tp2"
   ]
  },
  {
   "cell_type": "markdown",
   "id": "de95f452",
   "metadata": {},
   "source": [
    "## Chi sqaured Test\n",
    "$X^2$ Test\n",
    "- The **purpose** of the test is to evaluate how likely the observed frequencies would be assuming the null hypothesis is true. \n",
    "- in other words: is there a significant difference between the observed values and the expected values\n",
    "- $H_0: \\mu = \\mu_0$ - the Null states there is no difference <br>\n",
    "\n",
    "**prerequisites**: \n",
    "  - expected frequencies > 5 for every observation\n",
    "  - the test is just for frequencies not for relative values (e.g. percentages), \n",
    "  - the sample is random.<br>\n",
    "  \n",
    "**restrictions**:\n",
    "  - sample size is important, the bigger the sample the easier it is to find small differences\n",
    "  - $X^2$ test makes only statement about difference but not it's direction\n",
    "  - There is also no decleration about the strenght of the effect\n",
    "- $X^2$ is always  positive, and thus always one-sided \n",
    "- the test statistic $\\sum \\frac {(h_i - \\hat {h_i})^2}{\\hat {h_i}}$ is big if there is a difference between observed and expected values "
   ]
  },
  {
   "cell_type": "code",
   "execution_count": null,
   "id": "a4b5ea11",
   "metadata": {},
   "outputs": [
    {
     "data": {
      "text/plain": [
       "Power_divergenceResult(statistic=1.2155172413793103, pvalue=0.5445700903289235)"
      ]
     },
     "metadata": {},
     "output_type": "display_data"
    }
   ],
   "source": [
    "# [measurements], [expectations]\n",
    "# can we say the measurements align with our expectations?\n",
    "c2 = stats.chisquare([30, 111, 10], [25, 116, 10])\n",
    "c2"
   ]
  },
  {
   "cell_type": "markdown",
   "id": "2f396720",
   "metadata": {},
   "source": [
    "## ANOVA\n",
    "- **AN**alysis **O**f **VA**riance\n",
    "- generalization of the t-test \n",
    "- $H_0: \\mu_1 = \\mu_2 = \\mu_3 = .... = \\mu_n$\n",
    "**resrictions:**\n",
    "  - all groups have the same standard deviation\n",
    "  - error terms are normally distributed<br><rb>\n",
    "\n",
    "  **problem: multiple comparisons**\n",
    "- how to find out which of the samples doesn't fit\n",
    "- one could do pairwise t-tests of all combinations, <br> \n",
    " but with many test the probability grows to have a test with wrong results, thus one need to correct  $\\alpha$\n"
   ]
  },
  {
   "cell_type": "code",
   "execution_count": null,
   "id": "01ed9a83",
   "metadata": {},
   "outputs": [
    {
     "data": {
      "text/plain": [
       "F_onewayResult(statistic=1.9043388429752064, pvalue=0.18821911126180027)"
      ]
     },
     "metadata": {},
     "output_type": "display_data"
    }
   ],
   "source": [
    "an = stats.f_oneway([1, 2, 3, 4, 1, 1, 1], [3, 4 , 2, 4], [5, 4, 3, 2, 1])\n",
    "an"
   ]
  }
 ],
 "metadata": {
  "kernelspec": {
   "display_name": "Python 3.8.12 64-bit ('lewagon')",
   "language": "python",
   "name": "python3"
  },
  "language_info": {
   "codemirror_mode": {
    "name": "ipython",
    "version": 3
   },
   "file_extension": ".py",
   "mimetype": "text/x-python",
   "name": "python",
   "nbconvert_exporter": "python",
   "pygments_lexer": "ipython3",
   "version": "3.8.12"
  },
  "orig_nbformat": 4,
  "vscode": {
   "interpreter": {
    "hash": "ad7afd56c4a9327988b254949fc9ff6c4de57fd051da33a62b5f87e3ddafe8d2"
   }
  }
 },
 "nbformat": 4,
 "nbformat_minor": 2
}
