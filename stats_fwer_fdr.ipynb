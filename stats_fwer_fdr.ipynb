{
 "cells": [
  {
   "cell_type": "code",
   "execution_count": 23,
   "metadata": {},
   "outputs": [
    {
     "data": {
      "text/plain": [
       "True"
      ]
     },
     "execution_count": 23,
     "metadata": {},
     "output_type": "execute_result"
    }
   ],
   "source": [
    "import os\n",
    "\n",
    "os.path.exists('/home/mz/code/MaCoZu/data')"
   ]
  },
  {
   "cell_type": "markdown",
   "metadata": {},
   "source": [
    "The data set golub consists of the expression levels of 3051 genes for 38 tumor mRNA samples. Each tumor mRNA sample comes from one patient (i.e. 38 patients total), and 27 of these tumor samples correspond to acute lymphoblastic leukemia (ALL) and the remaining 11 to acute myeloid leukemia (AML). "
   ]
  },
  {
   "cell_type": "code",
   "execution_count": 2,
   "metadata": {
    "id": "pQfcfzJakM5S"
   },
   "outputs": [
    {
     "name": "stderr",
     "output_type": "stream",
     "text": [
      "Missing colon in file PosixPath('/home/mz/.config/matplotlib/stylelib/scientific.mplstyle'), line 15 (\"                               'fc4f30', \")\n",
      "Missing colon in file PosixPath('/home/mz/.config/matplotlib/stylelib/scientific.mplstyle'), line 16 (\"                               'e5ae38',\")\n",
      "Missing colon in file PosixPath('/home/mz/.config/matplotlib/stylelib/scientific.mplstyle'), line 17 (\"                               '6d904f',\")\n",
      "Missing colon in file PosixPath('/home/mz/.config/matplotlib/stylelib/scientific.mplstyle'), line 18 (\"                               '8b8b8b',\")\n",
      "Missing colon in file PosixPath('/home/mz/.config/matplotlib/stylelib/scientific.mplstyle'), line 19 (\"                               '810f7c'])\")\n",
      "Bad value in file PosixPath('/home/mz/.config/matplotlib/stylelib/scientific.mplstyle'), line 14 (\"axes.prop_cycle: cycler(color=['008fd5', \"): Key axes.prop_cycle: 'cycler(color=['008fd5',' is not a valid cycler construction: unexpected EOF while parsing (<unknown>, line 1)\n"
     ]
    }
   ],
   "source": [
    "import zipfile\n",
    "import numpy as np\n",
    "import numpy.lib.recfunctions\n",
    "import matplotlib.pyplot as plt\n",
    "\n",
    "# Load data\n",
    "with zipfile.ZipFile(\"/home/mz/code/MaCoZu/data/release_statsreview_release1.zip\") as zip_file:\n",
    "    golub_data, golub_classnames = ( np.genfromtxt(zip_file.open('data_and_materials/golub_data/{}'.format(fname)), delimiter=',', names=True, converters={0: lambda s: int(s.strip(b'\"'))}) for fname in ['golub.csv', 'golub_cl.csv'] )\n",
    "\n",
    "    ALL_names, AML_names = ( [ 'V{}'.format(int(v)) for v in golub_classnames[golub_classnames['x'] == c][golub_classnames.dtype.names[0]] ] for c in [0, 1] )\n",
    "    ALL_genes, AML_genes, ALLAML_genes = ( numpy.lib.recfunctions.repack_fields(golub_data[names]).view((golub_data[names].dtype[0], len(names))) for names in [ALL_names, AML_names, ALL_names + AML_names] )\n",
    "    ALL_N, AML_N, ALLAML_N = ( a.shape[1] for a in [ALL_genes, AML_genes, ALLAML_genes] )\n",
    "    N_genes = ALLAML_genes.shape[0]\n"
   ]
  },
  {
   "cell_type": "markdown",
   "metadata": {},
   "source": [
    " You will need to discover how many genes can be used to differentiate the tumor types, <br>\n",
    " meaning that their expression level differs between the two tumor types <br>\n",
    " (Acute Lymphoblastic Leukemia (ALL) and Acute Myeloid Leukemia (AML). ) using <br>\n",
    "\n",
    "- the uncorrected p-values,\n",
    "- the Holm-Bonferroni correction, and (iii) the Benjamini-Hochberg correction? "
   ]
  },
  {
   "cell_type": "markdown",
   "metadata": {
    "id": "eQeAlgZKM1iy"
   },
   "source": [
    "## Uncorrected p-values\n",
    "\n",
    "We can use $\\Delta \\bar{X}_ i = \\bar{X}_{\\text {ALL},i} - \\bar{X}_{\\text {AML},i}$ as a metric for the difference in expression levels for gene . \n",
    "\n",
    "The variance of this metric is $\\displaystyle  s_{\\Delta \\bar{X}_ i}^2\\displaystyle = s_{\\bar{X}_{\\text {ALL}},i}^2 + s_{\\bar{X}_{\\text {AML}},i}^2$\n",
    "\n",
    "\n",
    "\n",
    "test-statistic:\n",
    "\n",
    "$\\displaystyle  t_{\\text {Welch},i}\\displaystyle = \\frac{\\bar{X}_{\\text {ALL},i} - \\bar{X}_{\\text {AML},i}}{\\sqrt{ \\frac{s_{\\text {ALL},i}^2}{N_{\\text {ALL}}} + \\frac{s_{\\text {AML},i}^2}{N_{\\text {AML}}} }}$"
   ]
  },
  {
   "cell_type": "code",
   "execution_count": 6,
   "metadata": {
    "colab": {
     "base_uri": "https://localhost:8080/"
    },
    "id": "C5H-Zy9pPvGQ",
    "outputId": "f7fefa79-1189-4799-97ab-b3bfc1ba503a"
   },
   "outputs": [],
   "source": [
    "import scipy.stats\n",
    "# Calculate the Welch's t-test statistic\n",
    "test_statistic = (ALL_genes.mean(axis=1) - AML_genes.mean(axis=1))/np.sqrt(ALL_genes.var(axis=1, ddof=1)/ALL_N + AML_genes.var(axis=1, ddof=1)/AML_N)\n"
   ]
  },
  {
   "cell_type": "markdown",
   "metadata": {},
   "source": [
    "## degrees of freedom\n",
    "\n",
    "Welch test statistic can be approximated by a t-distribution, but with a modified number of **degrees of freedom** $v_i$.\n",
    "\n",
    "$\\displaystyle  \\nu _ i\\displaystyle \\approx \\frac{ \\left(\\frac{s_{\\text {ALL},i}^2}{N_{\\text {ALL}}} + \\frac{s_{\\text {AML},i}^2}{N_{\\text {AML}}}\\right)^2 }{ \\frac{1}{\\nu _{\\text {ALL}}} \\left(\\frac{s_{\\text {ALL},i}^2}{N_{\\text {ALL}}}\\right)^2 + \\frac{1}{\\nu _{\\text {AML}}} \\left( \\frac{s_{\\text {AML},i}^2}{N_{\\text {AML}}} \\right)^2 }.$\n",
    "\n",
    "where $\\nu _{\\text {ALL}} = N_{\\text {ALL}}-1$ <br>\n",
    "and $\\nu _{\\text {AML}} = N_{\\text {AML}}-1$"
   ]
  },
  {
   "cell_type": "code",
   "execution_count": 7,
   "metadata": {},
   "outputs": [],
   "source": [
    "# Find the number of degrees of freedom of the statistic according to the approximation formula\n",
    "test_dof = (ALL_genes.var(axis=1, ddof=1)/ALL_N + AML_genes.var(axis=1, ddof=1)/AML_N)**2 / \\\n",
    "    ( (ALL_genes.var(axis=1, ddof=1)/ALL_N)**2/(ALL_N-1) + (AML_genes.var(axis=1, ddof=1)/AML_N)**2/(AML_N-1))"
   ]
  },
  {
   "cell_type": "markdown",
   "metadata": {},
   "source": [
    "## 2-sided p-values\n",
    "sf : survival funtion = 1-cdf gives *p*-value for $t<x$ probability that we'll find an x (avarage observation) that's greater than t (the observation we've made this time) <br>\n",
    "thus it's a one-sided *p*-value.  For two-sided *p*-value $[x<-t \\,$  &  $\\, +t <x]$ we double the one_sided *p*-value."
   ]
  },
  {
   "cell_type": "code",
   "execution_count": 8,
   "metadata": {},
   "outputs": [],
   "source": [
    "# Find the 2-sided p-values\n",
    "p_values = scipy.stats.t.sf(np.abs(test_statistic), test_dof)*2"
   ]
  },
  {
   "cell_type": "code",
   "execution_count": 9,
   "metadata": {},
   "outputs": [
    {
     "data": {
      "text/plain": [
       "1078"
      ]
     },
     "execution_count": 9,
     "metadata": {},
     "output_type": "execute_result"
    }
   ],
   "source": [
    "# Count how many of these p-values are below the significance threshold\n",
    "(p_values < 0.05).sum()"
   ]
  },
  {
   "cell_type": "markdown",
   "metadata": {
    "id": "c0TpFYqhM5ik"
   },
   "source": [
    "## Holm Bonferroni correction\n",
    "\n",
    "The **Bonferroni correction**.<br>\n",
    " In a series of $m$ tests, if the significance level of each test is set to $\\alpha/m$, <br>\n",
    " or equivalently if the null hypothesis $H^i_0$ of each test $i$  is rejected when the corresponding $p$-value <br>\n",
    " is bounded by: $\\displaystyle  \\displaystyle p^{i}< \\frac{\\alpha }{m},$ then $FWER< \\alpha$. \n",
    " \n",
    " Equivalently, to control $FWER< \\alpha$, we can “correct\" the $p$-value $p_i$ of each test to $mp_i$ and reject $H^i_0$ when $mp_i<\\alpha$.<br>\n",
    "The Bonferroni correction apples to a series of tests that are not necessary independent of each other. <br>\n",
    "\n",
    "**FWER**: (family-wise error rate) is the probability of making one or more false discoveries, or type I errors when performing multiple hypotheses tests. <br><br>\n",
    "\n",
    "\n",
    "\n",
    "**Holm-Bonferroni Correction**<br>\n",
    "The Holm-Bonferroni method makes adaptive adjustments to the rejection criterion of each test. The procedure is as follows.<br>\n",
    "Suppose we are testing for $m$ hypotheses. \n",
    "\n",
    "Sort the $m$  $p$-values in increasing order  $p^{(1)}\\leq p^{(2)}\\leq \\ldots \\leq p^{(i)}\\leq \\ldots \\leq p^{(m)} \\quad$  Start with $i=1$, i.e. the minimum $p$-value. <br>\n",
    "If $\\quad {\\color{orange}{p^{(i)}\\leq \\frac{\\alpha }{m-(i-1)}} = \\color{orange}\\frac{\\alpha }{m+1-i}} ,$ then reject $H_0^{(i)}$ proceed to the next smallest $p$-value, increment $i$ by $1$, and again use the rejection criterion (in orange) above. "
   ]
  },
  {
   "cell_type": "code",
   "execution_count": 10,
   "metadata": {
    "colab": {
     "base_uri": "https://localhost:8080/"
    },
    "id": "sin6H1svb0oL",
    "outputId": "7fd22cf8-ed92-4ba2-ab1f-ade0697bcd95"
   },
   "outputs": [
    {
     "name": "stdout",
     "output_type": "stream",
     "text": [
      "[103]\n"
     ]
    }
   ],
   "source": [
    "# Sort the p-values in ascending order\n",
    "p_values_sorted = np.sort(p_values)\n",
    "# These are the adjusted significance thresholds as an array.\n",
    "# Each element is the threshold for the corresponding p-value in p_values_sorted\n",
    "# Note that (np.arange(N_genes)+1)[::-1] gives an array with [N_genes, N_genes-1, N_genes-2, ..., 1]\n",
    "# The [::-1] reverses the array.\n",
    "holm_bonferroni_thresholds = 0.05/(np.arange(N_genes)+1)[::-1]\n",
    "# First we compare the p-values to the associated thresholds. We then get an array\n",
    "# where the p-values that exceed the threhold have a value of False.\n",
    "holm_bonferroni_significant = p_values_sorted < holm_bonferroni_thresholds\n",
    "# We want to find the first value of False in this array (first p-value that exceeds the threshold)\n",
    "# so we invert it using logical_not.\n",
    "holm_bonferroni_not_significant = np.logical_not(holm_bonferroni_significant)\n",
    "# argwhere will return an array of indices for values of True in the supplied array.\n",
    "# Taking the first element of this array gives the first value of True in holm_bonferroni_not_significant\n",
    "# which is the same as the first value of False in holm_bonferroni_significant\n",
    "holm_bonferroni_first_not_significant = np.argwhere(holm_bonferroni_not_significant)[0]\n",
    "# We reject all hypothesis before the first p-value that exceeds the significance threshold.\n",
    "# The number of these rejections is exactly equal to the index of the first value that\n",
    "# exceeds the threshold.\n",
    "num_holm_bonferroni_rejections = holm_bonferroni_first_not_significant\n",
    "print(num_holm_bonferroni_rejections)"
   ]
  },
  {
   "cell_type": "markdown",
   "metadata": {
    "id": "qXZParlHM8p2"
   },
   "source": [
    "## Benjamini Hochberg\n",
    "\n",
    "\n",
    "Sometimes, controlling (the probability of making one or more false discoveries) may be too strict for any discovery to be reported. Instead, we can then control the **expected proportion of false discoveries among all discoveries made**, the false discovery rate (FDR). \n",
    "\n",
    "The false discovery rate (FDR) is:\n",
    "\n",
    " $\\displaystyle  \\text {FDR} = \\mathbb {E}\\left[\\frac{V}{N_1}\\right].$\n",
    "\n",
    " Recall **$N_1$ is the total number of discoveries** made (the total number of null hypotheses rejected), <br>\n",
    " and **$V$ is the number of false discoveries** (the number of null hypotheses that were falsely rejected). <br> \n",
    " Hence $V\\leq N_1$ and $V/N_1$ is a ratio that is always between zero and one. <br> \n",
    " If no null hypotheses were rejected, i.e. if $N_1 = 0$, we define the ratio $V/N_1$ to be zero to avoid a division by zero. <br><br>\n",
    "\n",
    "**Benjamini-Hochberg Correction**<br>\n",
    "The Benjamini-Hochberg method guarantees $FDR < \\alpha$ for a series of independent tests. \n",
    "Procedure: \n",
    "- Sort the $p$-values in increasing order $p^{(1)}\\leq p^{(2)}\\leq \\ldots \\leq p^{(i)}\\leq \\ldots \\leq p^{(m)}$\n",
    "- Such that: ${\\color{orange}{p^{(k)}\\leq \\frac{k}{m}\\alpha }}$.\n",
    "- reject all of $H_0^{(1)}, H_0^{(2)}\\cdots , H_0^{(k)}$\n",
    "\n",
    "\n",
    "Note that in this procedure, some null hypothesis $H_0^{(i)}$ can be rejected even if $p^{(i)}>\\frac{i}{m} \\alpha$ provided that $i<k$. <br>\n",
    "\n",
    "The adjustment of the p-value to ${\\color{orange}{\\frac{m}{i}p^{(i)}}}$ before comparing with $\\alpha$ is called the **Benjamini-Hochberg correction**. "
   ]
  },
  {
   "cell_type": "code",
   "execution_count": 15,
   "metadata": {},
   "outputs": [
    {
     "data": {
      "text/plain": [
       "array([1.63880695e-05, 3.27761390e-05, 4.91642085e-05, ...,\n",
       "       4.99672239e-02, 4.99836119e-02, 5.00000000e-02])"
      ]
     },
     "execution_count": 15,
     "metadata": {},
     "output_type": "execute_result"
    }
   ],
   "source": [
    "benjamini_hochberg_thresholds"
   ]
  },
  {
   "cell_type": "code",
   "execution_count": 12,
   "metadata": {
    "colab": {
     "base_uri": "https://localhost:8080/"
    },
    "id": "7pm7uBjYv40m",
    "outputId": "7e312669-cfdf-44bf-ad81-b4f727eb691e"
   },
   "outputs": [
    {
     "name": "stdout",
     "output_type": "stream",
     "text": [
      "[695]\n"
     ]
    }
   ],
   "source": [
    "# These are the adjusted significance thresholds as an array.\n",
    "benjamini_hochberg_thresholds = 0.05*(np.arange(N_genes)+1)/N_genes\n",
    "# First we compare the p-values to the associated thresholds.\n",
    "benjamini_hochberg_significant = p_values_sorted < benjamini_hochberg_thresholds\n",
    "# We are intested in the last p-value which is significant.Remeber that argwhere returns an array of indicies for the True values, \n",
    "# so we take the last element in order to get the index of the last p-value which is significant.\n",
    "benjamini_hochberg_last_significant = np.argwhere(p_values_sorted < benjamini_hochberg_thresholds)[-1]\n",
    "# We reject all hypotheses before the last significant p-value, AND we reject the hypothesis for the last significant p-value as well. \n",
    "# So the number of rejected hypotheses is equal to the index of the last significant p-value PLUS one.\n",
    "num_benjamini_hochberg_rejections = benjamini_hochberg_last_significant + 1\n",
    "print(num_benjamini_hochberg_rejections)"
   ]
  }
 ],
 "metadata": {
  "colab": {
   "collapsed_sections": [],
   "name": "HW1_Problem4.ipynb",
   "provenance": []
  },
  "kernelspec": {
   "display_name": "Python 3.8.12 64-bit ('3.8.12')",
   "language": "python",
   "name": "python3"
  },
  "language_info": {
   "codemirror_mode": {
    "name": "ipython",
    "version": 3
   },
   "file_extension": ".py",
   "mimetype": "text/x-python",
   "name": "python",
   "nbconvert_exporter": "python",
   "pygments_lexer": "ipython3",
   "version": "3.8.12"
  },
  "vscode": {
   "interpreter": {
    "hash": "90e46ec4b387b633a89cba001294dbacbdc2d7a1806327e4b9e9ce73f0e3d3ef"
   }
  }
 },
 "nbformat": 4,
 "nbformat_minor": 1
}
