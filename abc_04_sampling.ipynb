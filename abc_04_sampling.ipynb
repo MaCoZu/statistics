{
 "cells": [
  {
   "cell_type": "code",
   "execution_count": null,
   "metadata": {},
   "outputs": [],
   "source": []
  },
  {
   "cell_type": "markdown",
   "metadata": {},
   "source": [
    "# Sampling"
   ]
  },
  {
   "cell_type": "markdown",
   "metadata": {},
   "source": [
    "## Confidence Interval\n",
    "- Interpret of a  confidence interval:<br>\n",
    "  There is a 95% chance that the confidence interval of contains the true population mean.\n",
    "\n",
    "<details>\n",
    "\n",
    "- A range of values that likely contains the true population parameter $\\mu$, such as the mean $\\bar{x}$ or proportion, with a specified level of confidence ($1-\\alpha$). \n",
    "- It provides a measure of the uncertainty associated with estimating a population parameter from a sample.\n",
    "- For example, if you calculate a 95% confidence interval for the mean, it means that if you were to sample from the population multiple times and calculate the mean each time, approximately 95% of those intervals would contain the true population mean.\n",
    "\n",
    "$$\\bar{x} - \\left(\\text{c × sem}\\right) \\leq \\mu \\leq \\bar{x} + \\left(c × sem \\right)$$\n",
    "- sem: standard error of the mean\n",
    "- c (critical value): is either\n",
    "  - $t_{\\alpha/2}$ for $n \\leqslant 30$ or\n",
    "  \n",
    "- when $\\sigma$ is known: $sem = \\left( \\frac{\\sigma}{\\sqrt{n}} \\right)$\n",
    "- when $\\sigma$ is unknown: $sem = \\left( \\frac{s}{\\sqrt{n}} \\right)$\n",
    "$\\sigma$ known & $n \\geq 30$\n",
    "$$\\bar{x} - z_{\\alpha/2} \\left( \\frac{\\sigma}{\\sqrt{n}} \\right) \\leq \\mu \\leq \\bar{x} + z_{\\alpha/2} \\left( \\frac{\\sigma}{\\sqrt{n}} \\right)$$\n",
    "$\\sigma$ unknown & $n \\geq 30$\n",
    "$$\\bar{x} - z_{\\alpha/2} \\left( \\frac{s}{\\sqrt{n}} \\right) \\leq \\mu \\leq \\bar{x} + z_{\\alpha/2} \\left( \\frac{s}{\\sqrt{n}} \\right)$$\n",
    "$\\sigma$ known & $n \\leq 30$\n",
    "$$\\bar{x} - z_{\\alpha/2} \\left( \\frac{\\sigma}{\\sqrt{n}} \\right) \\leq \\mu \\leq \\bar{x} + z_{\\alpha/2} \\left( \\frac{\\sigma}{\\sqrt{n}} \\right)$$\n",
    "$\\sigma$ unknown & $n \\leq 30$\n",
    "$$\\bar{x} - t_{\\alpha/2, \\nu} \\left( \\frac{s}{\\sqrt{n}} \\right) \\leq \\mu \\leq \\bar{x} + t_{\\alpha/2, \\nu} \\left( \\frac{s}{\\sqrt{n}} \\right)$$\n",
    "\n",
    "\n",
    "\n",
    "This formula represents a confidence interval for the population mean $μ$ based on a sample mean $\\bar{x}$, sample standard deviation $s$, sample size $n$, and a chosen confidence level ($1-\\alpha$). The critical value is obtained from the t-distribution or Z-distribution depending on the sample size and desired confidence level.\n",
    "\n",
    "**Critical Value** ($z_{\\alpha/2}$​ for the standard normal distribution, $t_{\\alpha/2, v}$​ for the t-distribution):\n",
    "- The critical value is a threshold value that separates the critical region (where you reject the null hypothesis) from the non-critical region (where you fail to reject the null hypothesis).\n",
    "- It depends on the chosen significance level (α) and the distribution being used (standard normal or t-distribution). For example, for a 95% confidence interval, $α$ would be 0.05, so the critical value would be $z_{0.025}$​ or $t_{0.025,ν}$​ depending on the distribution.\n",
    "\n",
    "</details>"
   ]
  },
  {
   "cell_type": "code",
   "execution_count": null,
   "metadata": {},
   "outputs": [
    {
     "data": {
      "text/plain": [
       "(171.1797654386589, 174.60539854800774)"
      ]
     },
     "metadata": {},
     "output_type": "display_data"
    }
   ],
   "source": [
    "from scipy.stats import sem, t\n",
    "\n",
    "# use t-distribution for n<30\n",
    "sample = heights[:30]\n",
    "\n",
    "def confidence_interval(data, confidence):\n",
    "    mean = np.mean(data)\n",
    "    sem = scipy.stats.sem(data) # standard error of mean\n",
    "    margin = sem * scipy.stats.t.ppf((1 + confidence) / 2., len(data) - 1) # (1+0.95)/2 = 0.975\n",
    "    return mean - margin, mean + margin\n",
    "\n",
    "confidence_interval(sample, 0.95)"
   ]
  },
  {
   "cell_type": "code",
   "execution_count": null,
   "metadata": {},
   "outputs": [
    {
     "name": "stdout",
     "output_type": "stream",
     "text": [
      "171.1797654386589 174.60539854800774\n"
     ]
    }
   ],
   "source": [
    "# scipy solution\n",
    "# 95% confidence interval for population mean\n",
    "lower_margin, upper_margin = t.interval(confidence=0.95, df=len(sample)-1, loc=np.mean(sample), scale=sem(sample)) \n",
    "print(lower_margin, upper_margin)"
   ]
  },
  {
   "cell_type": "code",
   "execution_count": null,
   "metadata": {},
   "outputs": [
    {
     "data": {
      "image/png": "[encoded data removed]",
      "text/plain": [
       "<Figure size 1400x150 with 1 Axes>"
      ]
     },
     "metadata": {},
     "output_type": "display_data"
    }
   ],
   "source": [
    "plt.figure(figsize=(14, 1.5))\n",
    "sns.histplot(sample, stat='density', facecolor=\"skyblue\", bins=10)\n",
    "\n",
    "# Add vertical lines for confidence interval\n",
    "plt.axvline(lower_margin, color='red', linestyle='dashed', linewidth=2, label='Lower Bound (95% CI)')\n",
    "plt.axvline(upper_margin, color='green', linestyle='dashed', linewidth=2, label='Upper Bound (95% CI)')\n",
    "plt.show()"
   ]
  },
  {
   "cell_type": "code",
   "execution_count": null,
   "metadata": {},
   "outputs": [
    {
     "name": "stdout",
     "output_type": "stream",
     "text": [
      "172.64264303531618 172.7623945646839\n"
     ]
    }
   ],
   "source": [
    "from scipy.stats import norm, sem\n",
    "\n",
    "# for n>30 we can work with the normal distribution\n",
    "lower, upper = norm.interval(confidence=0.95, loc=np.mean(heights), scale=sem(heights))\n",
    "print(lower, upper)"
   ]
  },
  {
   "cell_type": "code",
   "execution_count": null,
   "metadata": {},
   "outputs": [
    {
     "data": {
      "image/png": "[encoded data removed]",
      "text/plain": [
       "<Figure size 1400x150 with 1 Axes>"
      ]
     },
     "metadata": {},
     "output_type": "display_data"
    }
   ],
   "source": [
    "plt.figure(figsize=(14, 1.5))\n",
    "sns.histplot(heights, stat='density', facecolor=\"skyblue\", bins=30)\n",
    "\n",
    "# Add vertical lines for confidence interval\n",
    "plt.axvline(lower, color='red', linestyle='dashed', linewidth=2, label='Lower Bound (95% CI)')\n",
    "plt.axvline(upper, color='green', linestyle='dashed', linewidth=2, label='Upper Bound (95% CI)')\n",
    "plt.show()"
   ]
  },
  {
   "cell_type": "markdown",
   "metadata": {},
   "source": [
    "## CI for variance\n",
    "$$\\left( \\frac{{(n-1)s^2}}{{\\chi^2_{\\alpha/2, n-1}}}, \\frac{{(n-1)s^2}}{{\\chi^2_{1-\\alpha/2, n-1}}} \\right)$$\n",
    "\n",
    "- $n$ is the sample size.\n",
    "- $s^2$ is the sample variance.\n",
    "- $α$ is the significance level (e.g., 0.05 for a 95% confidence interval).\n",
    "- $\\chi^2_{\\alpha/2, n-1}​$ is the $α/2$ percentile of the chi-square distribution with $n−1$ degrees of freedom.\n",
    "- $\\chi^2_{1-\\alpha/2, n-1}$​ is the $(1−α)/2$ percentile of the chi-square distribution with $n−1$ degrees of freedom."
   ]
  },
  {
   "cell_type": "code",
   "execution_count": null,
   "metadata": {},
   "outputs": [
    {
     "name": "stdout",
     "output_type": "stream",
     "text": [
      "The 95.0% confidence interval for variance is (23.74616492927205, 23.74616492927205)\n"
     ]
    }
   ],
   "source": [
    "from scipy.stats import chi2\n",
    "\n",
    "# Function to calculate confidence interval for variance\n",
    "def ci_variance(data, confidence):\n",
    "    n = len(data)\n",
    "    var = np.var(data, ddof=1)  # sample variance with Bessel's correction\n",
    "    chi2_lower = chi2.ppf((1 - confidence) / 2, df=n-1) # (1 - 0.95)/2 = 0.025\n",
    "    chi2_upper = chi2.ppf((1 + confidence) / 2, df=n-1) # (1 + 0.95)/2 = 0.5 + 0.475 = 0.975\n",
    "    lower = (n - 1) * var / chi2_upper\n",
    "    upper = (n - 1) * var / chi2_lower\n",
    "    return lower, upper\n",
    "\n",
    "\n",
    "# Calculate the confidence interval for the variance\n",
    "confidence = 0.95\n",
    "conf_interval_variance = ci_variance(heights, confidence)\n",
    "print(f\"The {confidence*100}% confidence interval for variance is {conf_interval_variance}\")"
   ]
  },
  {
   "cell_type": "markdown",
   "metadata": {},
   "source": [
    "## CI for population proportion\n",
    "$$\\hat{p} \\pm z_{\\alpha/2} \\sqrt{\\frac{\\hat{p}(1 - \\hat{p})}{n}}\n",
    "$$"
   ]
  },
  {
   "cell_type": "code",
   "execution_count": null,
   "metadata": {},
   "outputs": [
    {
     "name": "stdout",
     "output_type": "stream",
     "text": [
      "Confidence Interval: (0.5321, 0.6679)\n"
     ]
    }
   ],
   "source": [
    "from scipy.stats import norm\n",
    "\n",
    "sample_proportion = 0.6  # Sample proportion\n",
    "sample_size = 200  # Sample size\n",
    "confidence_level = 0.95  # Desired confidence level\n",
    "\n",
    "def ci_for_pop_proportion(p, n, confidence):\n",
    "    standard_error = math.sqrt((p * (1 - p)) / n)\n",
    "\n",
    "    # critical value for z alpha/2 \n",
    "    z = norm.ppf((1 + confidence) / 2)\n",
    "\n",
    "    # confidence interval\n",
    "    lower_bound = p - z * standard_error\n",
    "    upper_bound = p + z * standard_error\n",
    "\n",
    "    return lower_bound, upper_bound\n",
    "\n",
    "lower, upper = ci_for_pop_proportion(sample_proportion, sample_size, confidence_level)\n",
    "\n",
    "print(f\"Confidence Interval: ({lower:.4f}, {upper:.4f})\")\n"
   ]
  },
  {
   "cell_type": "markdown",
   "metadata": {},
   "source": [
    "## Sample Size for population mean given a fixed margin or error and confidence level\n",
    "$$n = \\left(\\frac{{z_{\\alpha/2} \\cdot \\sigma}}{{\\text{{margin of error}}}}\\right)^2$$\n"
   ]
  },
  {
   "cell_type": "code",
   "execution_count": null,
   "metadata": {},
   "outputs": [
    {
     "data": {
      "text/plain": [
       "35"
      ]
     },
     "metadata": {},
     "output_type": "display_data"
    }
   ],
   "source": [
    "from scipy.stats import norm\n",
    "\n",
    "'''A quality control manager may want to assess the average number of \n",
    "defectives in a box with a margin of error of plus minus 0.3 batteries and a \n",
    "confidence level of 95%, knowing the standard deviation to be 0.9 from past experiments'''\n",
    "\n",
    "def ci_sample_size_for_pop_mean(confidence, moe, pop_std):\n",
    "    z = norm.ppf((1 + confidence) / 2)\n",
    "    sample_size = ((z * pop_std) / moe)**2\n",
    "    return math.ceil(sample_size)\n",
    "\n",
    "\n",
    "confidence_level = 0.95  # 95%\n",
    "margin_of_error = 0.3  # 30%\n",
    "std_dev = 0.9  # known standard deviation\n",
    "\n",
    "# Calculate sample size\n",
    "ci_sample_size_for_pop_mean(confidence_level, margin_of_error, std_dev)"
   ]
  },
  {
   "cell_type": "markdown",
   "metadata": {},
   "source": [
    "## Sample Size Calculation for a Population Proportion \n",
    "$$n = \\frac{{z_{\\alpha/2}^2 \\cdot p \\cdot (1 - p)}}{{E^2}}$$\n"
   ]
  },
  {
   "cell_type": "code",
   "execution_count": null,
   "metadata": {},
   "outputs": [
    {
     "data": {
      "text/plain": [
       "1068"
      ]
     },
     "metadata": {},
     "output_type": "display_data"
    }
   ],
   "source": [
    "from scipy.stats import norm \n",
    "\n",
    "def ci_sample_size_for_pop_proportion(moe, confidence_level, p=0.5):\n",
    "    z = norm.ppf((1 + confidence_level) / 2)\n",
    "    sample_size = ((z**2) * p * (1 - p)) / (moe**2)\n",
    "    return math.ceil(sample_size)\n",
    "\n",
    "margin_of_error = 0.03  # 3%\n",
    "confidence_level = 0.95  # 95%\n",
    "\n",
    "ci_sample_size_for_pop_proportion(margin_of_error, confidence_level)"
   ]
  },
  {
   "cell_type": "markdown",
   "metadata": {},
   "source": [
    "## Bootstrapping\n",
    "- Bootstrap is the re-sampling (generating multiple resamples with replacement) strategy which replaces part of sample with the subsample of its own. The method involves repeatedly taking samples of size n (with replacement) from the original sample and calculating the value of the point estimate.\n",
    "- Bootstraping is used to estimate and test the population parameters in situations where either the sampling distribution is unknown, the assumptions are violated or when you want to make inferences about a population from a limited sample."
   ]
  },
  {
   "cell_type": "code",
   "execution_count": null,
   "metadata": {},
   "outputs": [
    {
     "name": "stdout",
     "output_type": "stream",
     "text": [
      "[172.6940696 172.7079808 172.6778016 172.6414992 172.6756508 172.706126\n",
      " 172.6618512 172.7463936 172.6807672 172.6639408 172.697384  172.695644\n",
      " 172.7208272 172.6455096 172.6799136 172.6847236 172.7041972 172.747108\n",
      " 172.6813644 172.6993648]\n"
     ]
    }
   ],
   "source": [
    "# Function to perform bootstrap sampling\n",
    "def bootstrap(data, num_samples, statistic):\n",
    "    bootstrap_samples_stat = []\n",
    "    for _ in range(num_samples):\n",
    "        sample = np.random.choice(data, len(data), replace=True)\n",
    "        bootstrap_samples_stat.append(statistic(sample))\n",
    "    return np.array(bootstrap_samples_stat)\n",
    "\n",
    "# Perform bootstrapping and calculate statistics for each sample \n",
    "# generates 1000 different samples a 2500 elements and calculates their 1000 means\n",
    "bootstrap_samples_stat = bootstrap(heights, num_samples=1000, statistic=np.mean)\n",
    "print(bootstrap_samples_stat[:20])"
   ]
  },
  {
   "cell_type": "code",
   "execution_count": null,
   "metadata": {},
   "outputs": [
    {
     "data": {
      "image/png": "[encoded data removed]",
      "text/plain": [
       "<Figure size 1400x300 with 1 Axes>"
      ]
     },
     "metadata": {},
     "output_type": "display_data"
    }
   ],
   "source": [
    "# Histogram of the 100o means \n",
    "plt.figure(figsize=(14, 3))\n",
    "\n",
    "plt.hist(bootstrap_samples_stat, bins=30, alpha=0.6, color='skyblue')\n",
    "\n",
    "# Define a custom formatter to display two decimal digits\n",
    "def two_decimal_formatter(x, pos):\n",
    "    return f'{x:.2f}'\n",
    "\n",
    "# Apply the custom formatter to the x-axis\n",
    "plt.gca().xaxis.set_major_formatter(plt.FuncFormatter(two_decimal_formatter))\n",
    "\n",
    "# Add line for the mean of means\n",
    "plt.axvline(np.mean(bootstrap_samples_stat), color='r', linestyle='dashed', linewidth=2)\n",
    "plt.show()"
   ]
  },
  {
   "cell_type": "markdown",
   "metadata": {},
   "source": [
    "## Confidence Interval - Excercises"
   ]
  },
  {
   "cell_type": "code",
   "execution_count": null,
   "metadata": {},
   "outputs": [
    {
     "data": {
      "text/html": [
       "<div>\n",
       "<style scoped>\n",
       "    .dataframe tbody tr th:only-of-type {\n",
       "        vertical-align: middle;\n",
       "    }\n",
       "\n",
       "    .dataframe tbody tr th {\n",
       "        vertical-align: top;\n",
       "    }\n",
       "\n",
       "    .dataframe thead th {\n",
       "        text-align: right;\n",
       "    }\n",
       "</style>\n",
       "<table border=\"1\" class=\"dataframe\">\n",
       "  <thead>\n",
       "    <tr style=\"text-align: right;\">\n",
       "      <th></th>\n",
       "      <th>Store ID</th>\n",
       "      <th>Grocery Sales</th>\n",
       "      <th>Clothing Sales</th>\n",
       "      <th>Toy Sales</th>\n",
       "      <th>Total Sales</th>\n",
       "    </tr>\n",
       "  </thead>\n",
       "  <tbody>\n",
       "    <tr>\n",
       "      <th>count</th>\n",
       "      <td>100.000000</td>\n",
       "      <td>100.000000</td>\n",
       "      <td>100.000000</td>\n",
       "      <td>100.000000</td>\n",
       "      <td>0.0</td>\n",
       "    </tr>\n",
       "    <tr>\n",
       "      <th>mean</th>\n",
       "      <td>50.500000</td>\n",
       "      <td>32757.540000</td>\n",
       "      <td>28129.680000</td>\n",
       "      <td>9841.110000</td>\n",
       "      <td>NaN</td>\n",
       "    </tr>\n",
       "    <tr>\n",
       "      <th>std</th>\n",
       "      <td>29.011492</td>\n",
       "      <td>7120.180984</td>\n",
       "      <td>10396.542361</td>\n",
       "      <td>3451.428414</td>\n",
       "      <td>NaN</td>\n",
       "    </tr>\n",
       "    <tr>\n",
       "      <th>min</th>\n",
       "      <td>1.000000</td>\n",
       "      <td>16033.000000</td>\n",
       "      <td>1125.000000</td>\n",
       "      <td>2460.000000</td>\n",
       "      <td>NaN</td>\n",
       "    </tr>\n",
       "    <tr>\n",
       "      <th>25%</th>\n",
       "      <td>25.750000</td>\n",
       "      <td>28380.750000</td>\n",
       "      <td>22105.750000</td>\n",
       "      <td>7272.250000</td>\n",
       "      <td>NaN</td>\n",
       "    </tr>\n",
       "    <tr>\n",
       "      <th>50%</th>\n",
       "      <td>50.500000</td>\n",
       "      <td>33060.500000</td>\n",
       "      <td>29203.500000</td>\n",
       "      <td>9716.000000</td>\n",
       "      <td>NaN</td>\n",
       "    </tr>\n",
       "    <tr>\n",
       "      <th>75%</th>\n",
       "      <td>75.250000</td>\n",
       "      <td>36373.500000</td>\n",
       "      <td>34149.500000</td>\n",
       "      <td>12092.750000</td>\n",
       "      <td>NaN</td>\n",
       "    </tr>\n",
       "    <tr>\n",
       "      <th>max</th>\n",
       "      <td>100.000000</td>\n",
       "      <td>57755.000000</td>\n",
       "      <td>51067.000000</td>\n",
       "      <td>18650.000000</td>\n",
       "      <td>NaN</td>\n",
       "    </tr>\n",
       "  </tbody>\n",
       "</table>\n",
       "</div>"
      ],
      "text/plain": [
       "         Store ID  Grocery Sales  Clothing Sales     Toy Sales  Total Sales\n",
       "count  100.000000     100.000000      100.000000    100.000000          0.0\n",
       "mean    50.500000   32757.540000    28129.680000   9841.110000          NaN\n",
       "std     29.011492    7120.180984    10396.542361   3451.428414          NaN\n",
       "min      1.000000   16033.000000     1125.000000   2460.000000          NaN\n",
       "25%     25.750000   28380.750000    22105.750000   7272.250000          NaN\n",
       "50%     50.500000   33060.500000    29203.500000   9716.000000          NaN\n",
       "75%     75.250000   36373.500000    34149.500000  12092.750000          NaN\n",
       "max    100.000000   57755.000000    51067.000000  18650.000000          NaN"
      ]
     },
     "metadata": {},
     "output_type": "display_data"
    }
   ],
   "source": [
    "sales = pd.read_csv(\"data/store_sales.csv\")\n",
    "sales.head()\n",
    "sales.describe()"
   ]
  },
  {
   "cell_type": "code",
   "execution_count": null,
   "metadata": {},
   "outputs": [],
   "source": [
    "'''Estimate the average grocery sales for all stores, of we have only data of 100 stores. \n",
    "Calculate the absolute t_a/2 values for a 95% confidence interval for grocery sales'''\n",
    "grocery = sales[\"Grocery Sales\"]\n",
    "\n",
    "t_0975 = scipy.stats.t.ppf((1 + 0.95) / 2., len(grocery) - 1).round(4)"
   ]
  },
  {
   "cell_type": "code",
   "execution_count": null,
   "metadata": {},
   "outputs": [
    {
     "data": {
      "text/plain": [
       "714.0023153226673"
      ]
     },
     "metadata": {},
     "output_type": "display_data"
    }
   ],
   "source": [
    "def margin_of_error_t(data, confidence=0.95):\n",
    "    t_value = scipy.stats.t.ppf((1 + confidence) / 2., len(data) - 1)\n",
    "    moe = t_value + sem(data)\n",
    "    return moe\n",
    "\n",
    "'''what is the corresponding margin of error = t_a/2 + standard error of the mean'''\n",
    "\n",
    "clothing = sales[\"Clothing Sales\"]\n",
    "toys = sales[\"Toy Sales\"]\n",
    "\n",
    "\n",
    "margin_of_error_t(toys)\n",
    "margin_of_error_t(clothing)\n",
    "margin_of_error_t(grocery)"
   ]
  },
  {
   "cell_type": "code",
   "execution_count": null,
   "metadata": {},
   "outputs": [
    {
     "data": {
      "text/plain": [
       "3497"
      ]
     },
     "metadata": {},
     "output_type": "display_data"
    }
   ],
   "source": [
    "'''what would the sample size need to be to bring the moe of clothing as near as possible to the moe of toys'''\n",
    "moe_toys = margin_of_error_t(toys)\n",
    "mean_clothing = np.mean(clothing)\n",
    "\n",
    "def sample_size_t(data, confidence, moe):\n",
    "    sample_std = np.std(data)\n",
    "    t_value = scipy.stats.t.ppf((1 + confidence) / 2., len(data) - 1)\n",
    "    sample_size = ((t_value * sample_std) / moe)**2\n",
    "    return math.ceil(sample_size)\n",
    "\n",
    "sample_size_t(clothing, 0.95, moe_toys)"
   ]
  },
  {
   "cell_type": "code",
   "execution_count": null,
   "metadata": {},
   "outputs": [
    {
     "data": {
      "text/plain": [
       "count      100.000000\n",
       "mean      9841.110000\n",
       "std       3451.428414\n",
       "min       2460.000000\n",
       "25%       7272.250000\n",
       "50%       9716.000000\n",
       "75%      12092.750000\n",
       "max      18650.000000\n",
       "Name: Toy Sales, dtype: float64"
      ]
     },
     "metadata": {},
     "output_type": "display_data"
    }
   ],
   "source": [
    "toys.describe()"
   ]
  },
  {
   "cell_type": "code",
   "execution_count": null,
   "metadata": {},
   "outputs": [],
   "source": [
    "from scipy.stats import t, sem\n",
    "# 95% confidence interval for population mean for toy sales\n",
    "ci_95 = t.interval(0.95, df=len(toys)-1, loc=np.mean(toys), scale=sem(toys))\n",
    "\n",
    "# 90% confidence interval for population mean for toy sales\n",
    "ci_90 = t.interval(0.90, df=len(toys)-1, loc=np.mean(toys), scale=sem(toys))"
   ]
  },
  {
   "cell_type": "code",
   "execution_count": null,
   "metadata": {},
   "outputs": [
    {
     "data": {
      "text/plain": [
       "15"
      ]
     },
     "metadata": {},
     "output_type": "display_data"
    }
   ],
   "source": [
    "# no. of sales in the 95% confidence interval\n",
    "len([x for x in toys if  ci_95[0] <= x <= ci_95[1]])\n",
    "((toys>=ci_95[0]) & (toys<=ci_95[1])).sum()\n",
    "\n",
    "# no. of sales in the 90% confidence interval\n",
    "len([x for x in toys if  ci_90[0] <= x <= ci_90[1]])"
   ]
  },
  {
   "cell_type": "code",
   "execution_count": null,
   "metadata": {},
   "outputs": [],
   "source": [
    "# total sales\n",
    "sales[\"Total Sales\"] = sales.iloc[:, 1:4].sum(axis=1)"
   ]
  },
  {
   "cell_type": "code",
   "execution_count": null,
   "metadata": {},
   "outputs": [
    {
     "data": {
      "text/plain": [
       "0.47063844072360406"
      ]
     },
     "metadata": {},
     "output_type": "display_data"
    }
   ],
   "source": [
    "# calculate the sample proportion p of grocery sales\n",
    "sales[\"Proportion of Grocery Sales\"] = sales[\"Grocery Sales\"] / sales[\"Total Sales\"]\n",
    "p_grocery = sales[\"Proportion of Grocery Sales\"].mean()\n",
    "p_grocery"
   ]
  },
  {
   "cell_type": "code",
   "execution_count": null,
   "metadata": {},
   "outputs": [
    {
     "data": {
      "text/plain": [
       "(0.3728093561395167, 0.5684675253076914)"
      ]
     },
     "metadata": {},
     "output_type": "display_data"
    }
   ],
   "source": [
    "# 95% confidence interval for population proportion\n",
    "from stats_functions import ci_for_pop_proportion\n",
    "ci_for_pop_proportion(p_grocery, len(grocery), 0.95)"
   ]
  },
  {
   "cell_type": "code",
   "execution_count": null,
   "metadata": {},
   "outputs": [
    {
     "data": {
      "text/plain": [
       "196"
      ]
     },
     "metadata": {},
     "output_type": "display_data"
    }
   ],
   "source": [
    "from stats_functions import sample_size_for_pop_proportion_ci\n",
    "sample_size_for_pop_proportion_ci(0.07, 0.95)"
   ]
  },
  {
   "cell_type": "code",
   "execution_count": null,
   "metadata": {},
   "outputs": [
    {
     "data": {
      "text/plain": [
       "1.6604"
      ]
     },
     "metadata": {},
     "output_type": "display_data"
    }
   ],
   "source": [
    "# cut off value for mu <= 7.5, with n=100, alpha=0.05\n",
    "scipy.stats.t.ppf(0.95, 99).round(4)"
   ]
  },
  {
   "cell_type": "code",
   "execution_count": null,
   "metadata": {},
   "outputs": [
    {
     "data": {
      "text/plain": [
       "-1.02"
      ]
     },
     "metadata": {},
     "output_type": "display_data"
    }
   ],
   "source": [
    "# z-statistic for a proportion \n",
    "p=0.4\n",
    "p_hat=0.35\n",
    "n=100\n",
    "\n",
    "z = (p_hat - p) / math.sqrt((p*(1-p))/n)\n",
    "round(z, 2)"
   ]
  }
 ],
 "metadata": {
  "language_info": {
   "name": "python"
  }
 },
 "nbformat": 4,
 "nbformat_minor": 2
}
